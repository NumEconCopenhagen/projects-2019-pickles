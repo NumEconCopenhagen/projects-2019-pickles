{
 "cells": [
  {
   "cell_type": "markdown",
   "metadata": {},
   "source": [
    "# 1. Human capital accumulation"
   ]
  },
  {
   "cell_type": "markdown",
   "metadata": {},
   "source": [
    "## Question 1\n",
    "First we will define each variable and parameters with Sympy.symbols."
   ]
  },
  {
   "cell_type": "code",
   "execution_count": 1,
   "metadata": {},
   "outputs": [],
   "source": [
    "# import packages\n",
    "import numpy as np\n",
    "import sympy as sm\n",
    "sm.init_printing(use_unicode=True) # for pretty printing"
   ]
  },
  {
   "cell_type": "code",
   "execution_count": 2,
   "metadata": {},
   "outputs": [],
   "source": [
    "# Define parameters and variables as symbols\n",
    "rho = sm.symbols(\"rho\")\n",
    "beta = sm.symbols(\"beta\")\n",
    "gamma = sm.symbols(\"gamma\")\n",
    "w = sm.symbols(\"w\")\n",
    "b = sm.symbols(\"b\")\n",
    "Delta = sm.symbols(\"Delta\")\n",
    "h_2 = sm.symbols(\"h_2\")\n",
    "l_2 = sm.symbols(\"l_2\")\n",
    "c_2 = sm.symbols(\"c_2\")\n",
    "l_1 = sm.symbols(\"l_1\")\n",
    "h_1 = sm.symbols(\"h_1\")"
   ]
  },
  {
   "cell_type": "markdown",
   "metadata": {},
   "source": [
    "The utility the worker receives from consumption depends on the variable $l_t$. If the value is [1], consumption will be $w*h_2*l_2$, and for the value [0], $(1-l_2)*b$. Hence we define the function as the following:\n",
    "$c_2 = (w*h_2*l_2)+(1-l_2)*b$"
   ]
  },
  {
   "cell_type": "code",
   "execution_count": 3,
   "metadata": {},
   "outputs": [],
   "source": [
    "# Define consumption function according to the pres-ented formula\n",
    "# Includes, wage w, unemployment benefit b, human capital for period 2 h_2 and labor supply for period 2 l_2\n",
    "# Returns the consumption\n",
    "def consumption_2(w, h_2, l_2, b):\n",
    "    return (w*h_2*l_2)+(1-l_2)*b"
   ]
  },
  {
   "cell_type": "markdown",
   "metadata": {},
   "source": [
    "Next we will try to define the utility function."
   ]
  },
  {
   "cell_type": "code",
   "execution_count": 4,
   "metadata": {},
   "outputs": [
    {
     "data": {
      "image/png": "[encoded data removed]",
      "text/latex": [
       "$$\\frac{c_{2}^{- \\rho + 1}}{- \\rho + 1} - \\gamma l_{2}$$"
      ],
      "text/plain": [
       "  -ρ + 1       \n",
       "c₂             \n",
       "──────── - γ⋅l₂\n",
       " -ρ + 1        "
      ]
     },
     "execution_count": 4,
     "metadata": {},
     "output_type": "execute_result"
    }
   ],
   "source": [
    "# Define utility function according to the presented formula\n",
    "utility = c_2 ** (1-rho)/(1-rho) - gamma * l_2\n",
    "utility"
   ]
  },
  {
   "cell_type": "markdown",
   "metadata": {},
   "source": [
    "Then we will use sympy to substitute the consumption function into the utility function"
   ]
  },
  {
   "cell_type": "code",
   "execution_count": 5,
   "metadata": {},
   "outputs": [
    {
     "data": {
      "image/png": "[encoded data removed]",
      "text/latex": [
       "$$b \\left(- l_{2} + 1\\right) + h_{2} l_{2} w$$"
      ],
      "text/plain": [
       "b⋅(-l₂ + 1) + h₂⋅l₂⋅w"
      ]
     },
     "execution_count": 5,
     "metadata": {},
     "output_type": "execute_result"
    }
   ],
   "source": [
    "# Set consumption equal to the variables and parameters\n",
    "consumption2 = w*h_2*l_2+(1-l_2)*b\n",
    "consumption2"
   ]
  },
  {
   "cell_type": "code",
   "execution_count": 6,
   "metadata": {},
   "outputs": [
    {
     "data": {
      "image/png": "[encoded data removed]",
      "text/latex": [
       "$$- \\gamma l_{2} + \\frac{\\left(b \\left(- l_{2} + 1\\right) + h_{2} l_{2} w\\right)^{- \\rho + 1}}{- \\rho + 1}$$"
      ],
      "text/plain": [
       "                               -ρ + 1\n",
       "        (b⋅(-l₂ + 1) + h₂⋅l₂⋅w)      \n",
       "-γ⋅l₂ + ─────────────────────────────\n",
       "                    -ρ + 1           "
      ]
     },
     "execution_count": 6,
     "metadata": {},
     "output_type": "execute_result"
    }
   ],
   "source": [
    "# Use sympy.subs to substitute consumption_2 into the utility function.\n",
    "utility_subs = utility.subs(c_2,consumption2)\n",
    "utility_subs"
   ]
  },
  {
   "cell_type": "markdown",
   "metadata": {},
   "source": [
    "This is the final utility function, which we will define below."
   ]
  },
  {
   "cell_type": "code",
   "execution_count": 7,
   "metadata": {},
   "outputs": [],
   "source": [
    "# Define final utility function.\n",
    "def utility_2(gamma, w, b, rho, h, l):\n",
    "    return ((1-l)*b+(h*l*w))**(1-rho)/(1-rho)-gamma*l"
   ]
  },
  {
   "cell_type": "markdown",
   "metadata": {},
   "source": [
    "Next we will try to solve the model visually."
   ]
  },
  {
   "cell_type": "code",
   "execution_count": 8,
   "metadata": {},
   "outputs": [],
   "source": [
    "# Import the following packages\n",
    "%matplotlib inline\n",
    "import matplotlib.pyplot as plt"
   ]
  },
  {
   "cell_type": "markdown",
   "metadata": {},
   "source": [
    "Next we will use  np.argmax to solve the model for period 2 by using the given vector for $h_2$ and an empty vector (100,2), \"choices2\"."
   ]
  },
  {
   "cell_type": "code",
   "execution_count": 9,
   "metadata": {},
   "outputs": [],
   "source": [
    "# Vectors\n",
    "choices2 = np.empty((100,2))\n",
    "h2_vec = np.linspace(0.1,1.5,100) \n",
    "\n",
    "# Parameters\n",
    "rho = 2\n",
    "beta = 0.96\n",
    "gamma = 0.1\n",
    "w = 2\n",
    "b = 1\n",
    "Delta = 0.1\n",
    "\n",
    "# loop over each value of h for l=0 and l=1 for the utility function to fill up choices2\n",
    "for index, value in enumerate(h2_vec):\n",
    "    choices2[index, 0] = utility_2(gamma, w, b, rho, value, 0)\n",
    "    choices2[index, 1] = utility_2(gamma, w, b, rho, value, 1)"
   ]
  },
  {
   "cell_type": "markdown",
   "metadata": {},
   "source": [
    "Now we can find the solutions for labor supply $l_2$, consumption $c_2$ and value $v_2$."
   ]
  },
  {
   "cell_type": "code",
   "execution_count": 10,
   "metadata": {},
   "outputs": [],
   "source": [
    "# Find the argument, which maximise the value of l2 given choices2\n",
    "l2_sol = np.argmax(choices2, axis=1)\n",
    "# Insert the above sol into consumption.\n",
    "c2_sol = consumption_2(w, b ,l2_sol,h2_vec) \n",
    "# Max choises2 to find v2\n",
    "v2_sol = np.max(choices2, axis=1)"
   ]
  },
  {
   "cell_type": "markdown",
   "metadata": {},
   "source": [
    "At last we can show the solution in the below subplots."
   ]
  },
  {
   "cell_type": "code",
   "execution_count": 11,
   "metadata": {},
   "outputs": [
    {
     "data": {
      "image/png": "[encoded data removed]",
      "text/plain": [
       "<Figure size 1296x720 with 3 Axes>"
      ]
     },
     "metadata": {
      "needs_background": "light"
     },
     "output_type": "display_data"
    }
   ],
   "source": [
    "# Begin plot\n",
    "fig = plt.figure(figsize=(18,10))\n",
    "\n",
    "# Add the three subplots\n",
    "ax = fig.add_subplot(3,3,1)\n",
    "ax.plot(h2_vec,l2_sol)\n",
    "ax.grid()\n",
    "ax.set_xlabel('$h_2$')\n",
    "ax.set_ylabel('$l_2$')\n",
    "ax.set_title('Labor supply function in period 2');\n",
    "\n",
    "ax = fig.add_subplot(3,3,2)\n",
    "ax.plot(h2_vec,c2_sol, color='green')\n",
    "ax.grid()\n",
    "ax.set_xlabel('$h_2$')\n",
    "ax.set_ylabel('$c_2$')\n",
    "ax.set_title('Consumption function in period 2');\n",
    "\n",
    "ax = fig.add_subplot(3,3,3)\n",
    "ax.plot(h2_vec,v2_sol, color='orange')\n",
    "ax.grid()\n",
    "ax.set_xlabel('$h_2$')\n",
    "ax.set_ylabel('$v_2$')\n",
    "ax.set_title('Value function in period 2');"
   ]
  },
  {
   "cell_type": "markdown",
   "metadata": {},
   "source": [
    "We see how there is a kink at a certain value of $h_2$, approx. 0.55. At this value, the worker gets more utility from working than living of unemployment benefits. Hence, the worker's consumtion and value increases."
   ]
  },
  {
   "cell_type": "markdown",
   "metadata": {},
   "source": [
    "# Question 2\n",
    "Now the worker has a chance of accumulating human capital."
   ]
  },
  {
   "cell_type": "code",
   "execution_count": 12,
   "metadata": {},
   "outputs": [],
   "source": [
    "# Define consumption and utility function (same as period 2)\n",
    "def consumption_1(w, h_1, l_1, b):\n",
    "    return (w*h_1*l_1)+(1-l_1)*b\n",
    "\n",
    "def utility_1(gamma, w, b, rho, h_1, l_1):\n",
    "    return ((1-l_1)*b+(h_1*l_1*w))**(1-rho)/(1-rho)-gamma*l_1"
   ]
  },
  {
   "cell_type": "markdown",
   "metadata": {},
   "source": [
    "Next we will create a value function, which inputs consits of the possibilities for the worker to accumulate human capital"
   ]
  },
  {
   "cell_type": "code",
   "execution_count": 13,
   "metadata": {},
   "outputs": [],
   "source": [
    "def v1(gamma, b, w, rho, Delta, beta, h_1, l_1, v2_interp):\n",
    "    #  h2 value, if no acc\n",
    "    h2_no_acc = h_1 + l_1\n",
    "    \n",
    "    # b2 value, if no acc\n",
    "    v2_no_acc = v2_interp([h2_no_acc])[0]\n",
    "    \n",
    "    # h2 value, if acc\n",
    "    h2_acc = h_1 + l_1 + Delta\n",
    "    \n",
    "    # v2 value if acc\n",
    "    v2_acc = v2_interp([h2_acc])[0]\n",
    "    \n",
    "    # expected v2 value\n",
    "    v2 = 0.5 * v2_no_acc + 0.5 * v2_acc\n",
    "    \n",
    "    # return the total value\n",
    "    return utility_1(gamma, rho, b, w, h_1, l_1) + beta * v2"
   ]
  },
  {
   "cell_type": "markdown",
   "metadata": {},
   "source": [
    "Construct interpolar"
   ]
  },
  {
   "cell_type": "code",
   "execution_count": 14,
   "metadata": {},
   "outputs": [],
   "source": [
    "from scipy import interpolate\n",
    "\n",
    "# Constructing interpolar\n",
    "v2_interp = interpolate.RegularGridInterpolator([h2_vec], v2_sol,\n",
    "                                                bounds_error=False,fill_value=None)"
   ]
  },
  {
   "cell_type": "markdown",
   "metadata": {},
   "source": [
    "Similar to how we did in Question 1, we create a empty array and loop over each value of $h$ "
   ]
  },
  {
   "cell_type": "code",
   "execution_count": 15,
   "metadata": {},
   "outputs": [],
   "source": [
    "# Vectors\n",
    "choices1 = np.empty((100,2))\n",
    "\n",
    "\n",
    "# loop over each value of h for l=0 and l=1 to fill up choices 1\n",
    "for index, value in enumerate(h2_vec):\n",
    "    choices1[index, 0] = v1(gamma, b, w, rho, Delta, beta, value, 0, v2_interp)\n",
    "    choices1[index, 1] = v1(gamma, b, w, rho, Delta, beta, value, 1, v2_interp)\n"
   ]
  },
  {
   "cell_type": "markdown",
   "metadata": {},
   "source": [
    "Now we can find the following solutions."
   ]
  },
  {
   "cell_type": "code",
   "execution_count": 16,
   "metadata": {},
   "outputs": [],
   "source": [
    "# Find the argument, which maximise the value of l1 given choices1\n",
    "l1_sol = np.argmax(choices1, axis=1)\n",
    "\n",
    "# Insert the above sol into consumption.\n",
    "c1_sol = consumption_1(w,b,l1_sol,h2_vec)\n",
    "\n",
    "# Max choises1 to find v1\n",
    "v1_sol = np.max(choices1, axis=1)"
   ]
  },
  {
   "cell_type": "code",
   "execution_count": 17,
   "metadata": {},
   "outputs": [
    {
     "data": {
      "image/png": "[encoded data removed]",
      "text/plain": [
       "<Figure size 1296x720 with 3 Axes>"
      ]
     },
     "metadata": {
      "needs_background": "light"
     },
     "output_type": "display_data"
    }
   ],
   "source": [
    "# Begin plotting\n",
    "fig = plt.figure(figsize=(18,10))\n",
    "\n",
    "# Add subplots\n",
    "ax = fig.add_subplot(3,3,1)\n",
    "ax.plot(h2_vec,l1_sol)\n",
    "ax.grid()\n",
    "ax.set_xlabel('$h_1$')\n",
    "ax.set_ylabel('$l_1$')\n",
    "ax.set_title('Labor supply in period 1');\n",
    "\n",
    "ax = fig.add_subplot(3,3,2)\n",
    "ax.plot(h2_vec,c1_sol, color ='green')\n",
    "ax.grid()\n",
    "ax.set_xlabel('$h_1$')\n",
    "ax.set_ylabel('$c_1$')\n",
    "ax.set_title('Consumption in period 1');\n",
    "\n",
    "ax = fig.add_subplot(3,3,3)\n",
    "ax.plot(h2_vec,v1_sol, color = 'orange')\n",
    "ax.grid()\n",
    "ax.set_xlabel('$h_1$')\n",
    "ax.set_ylabel('$v_1$')\n",
    "ax.set_title('Value function in period 1');"
   ]
  },
  {
   "cell_type": "markdown",
   "metadata": {},
   "source": [
    "We see that when the worker has a chance of accumulating human capital, the kink happens at a smaller $h$ value, approx. 0.35."
   ]
  },
  {
   "cell_type": "markdown",
   "metadata": {},
   "source": [
    "# Question 3\n",
    "In this question we will explore if the worker will still prefer working even though $b>w$. In order for us to do so, we will research if the worker chooses $l_t$ = [1] for a certain value of $h_t$. For your convenience this will be done only for period 2."
   ]
  },
  {
   "cell_type": "markdown",
   "metadata": {},
   "source": [
    "The method is similar to the previous questions."
   ]
  },
  {
   "cell_type": "code",
   "execution_count": 21,
   "metadata": {},
   "outputs": [
    {
     "data": {
      "application/vnd.jupyter.widget-view+json": {
       "model_id": "f719942669b34718839d31f13729dde3",
       "version_major": 2,
       "version_minor": 0
      },
      "text/plain": [
       "interactive(children=(FloatSlider(value=0.9, description='$w$', max=1.0, step=0.01), Output()), _dom_classes=(…"
      ]
     },
     "metadata": {},
     "output_type": "display_data"
    }
   ],
   "source": [
    "# Import packages\n",
    "import matplotlib.pyplot as plt\n",
    "import ipywidgets as widgets\n",
    "from ipywidgets import interactive\n",
    "\n",
    "# Define interactive figure\n",
    "def interactive_fig_w(w_t):\n",
    "    \n",
    "    # Find solution with the method similar to previous questions.\n",
    "    choices_w = np.empty((100,2))\n",
    "    \n",
    "    for index, value in enumerate(h2_vec):\n",
    "        choices_w[index, 0] = utility_2(gamma, w_t, b, rho, value, 0)\n",
    "        choices_w[index, 1] = utility_2(gamma, w_t, b, rho, value, 1)\n",
    "        \n",
    "    lw_sol = np.argmax(choices_w, axis=1)\n",
    "    \n",
    "    # Plot figure\n",
    "    \n",
    "    plt.plot(h2_vec,lw_sol)\n",
    "    plt.title('Labor supply in period 2')\n",
    "    plt.xlabel('$h_2$')\n",
    "    plt.ylabel('$l_2$')\n",
    "    plt.axis([0,1.6,-0.1,1.1])\n",
    "    plt.show()\n",
    "\n",
    "\n",
    "interactive_plot_w = interactive(interactive_fig_w, \n",
    "                               w_t=widgets.FloatSlider(description=\"$w$\", \n",
    "                                                       min=0.0,\n",
    "                                                       max=1.0,\n",
    "                                                       step=0.01,\n",
    "                                                       value=0.9,\n",
    "                                                       continuous_update=True) \n",
    "                              )\n",
    "\n",
    "interactive_plot_w"
   ]
  },
  {
   "cell_type": "markdown",
   "metadata": {},
   "source": [
    "What the above figure tells us is that when the wage is $w = 0.75$ or above, the worker gets more utility from working than relying on unemployment benefits $b = 1$. So yes, the worker will still work ($l_1 = 1$), when the worker's wage is below the unemployment benefits. "
   ]
  },
  {
   "cell_type": "markdown",
   "metadata": {},
   "source": [
    "# 2. AS-AD model"
   ]
  },
  {
   "cell_type": "code",
   "execution_count": 23,
   "metadata": {},
   "outputs": [],
   "source": [
    "# Create dictionary for parameters and their values\n",
    "par = {}\n",
    "\n",
    "par['alpha'] = 5.76\n",
    "par['h'] = 0.5\n",
    "par['b'] = 0.5\n",
    "par['phi'] = 0\n",
    "par['gamma'] = 0.075"
   ]
  },
  {
   "cell_type": "markdown",
   "metadata": {},
   "source": [
    "# Question 1\n",
    "First we will define the following variables and parameters as symbols."
   ]
  },
  {
   "cell_type": "code",
   "execution_count": 24,
   "metadata": {},
   "outputs": [],
   "source": [
    "# Defining variables and parameters as symbols\n",
    "alpha = sm.symbols(\"alpha\")\n",
    "b = sm.symbols(\"b\")\n",
    "h = sm.symbols(\"h\")\n",
    "phi = sm.symbols(\"phi\")\n",
    "gamma = sm.symbols(\"gamma\")\n",
    "\n",
    "y_t = sm.symbols(\"y_t\")\n",
    "y_t_1 = sm.symbols(\"y_{t-1}\")\n",
    "s_t = sm.symbols(\"s_t\")\n",
    "s_t_1 = sm.symbols(\"s_{t-1}\")\n",
    "v_t = sm.symbols(\"v_t\")\n",
    "pi_t = sm.symbols(\"pi_t\")\n",
    "pi_t_1 = sm.symbols(\"\\pi_{t-1}\")"
   ]
  },
  {
   "cell_type": "markdown",
   "metadata": {},
   "source": [
    "Then we are able to construct the following equations for the SRAS curve and the AD curve."
   ]
  },
  {
   "cell_type": "code",
   "execution_count": 25,
   "metadata": {},
   "outputs": [
    {
     "data": {
      "image/png": "[encoded data removed]",
      "text/latex": [
       "$$\\left ( \\pi_{t} = \\pi_{t-1} - \\gamma \\phi y_{t-1} + \\gamma y_{t} - \\phi s_{t-1} + s_{t}, \\quad \\pi_{t} = \\frac{v_{t} - y_{t} \\left(\\alpha b + 1\\right)}{\\alpha h}\\right )$$"
      ],
      "text/plain": [
       "⎛                                                           vₜ - yₜ⋅(α⋅b + 1)⎞\n",
       "⎜πₜ = \\pi_{t-1} - γ⋅φ⋅y_{t-1} + γ⋅yₜ - φ⋅s_{t-1} + sₜ, πₜ = ─────────────────⎟\n",
       "⎝                                                                  α⋅h       ⎠"
      ]
     },
     "execution_count": 25,
     "metadata": {},
     "output_type": "execute_result"
    }
   ],
   "source": [
    "# Constructing SRAS and AD curve\n",
    "SRAS = sm.Eq(pi_t,pi_t_1 + gamma * y_t  - phi * gamma * y_t_1 + s_t - phi * s_t_1)\n",
    "AD = sm.Eq(pi_t, 1/(h * alpha) * (v_t - (1 + b * alpha) * y_t))\n",
    "SRAS, AD"
   ]
  },
  {
   "cell_type": "markdown",
   "metadata": {},
   "source": [
    "To solve the model, we will have to set the two curves equal to eachother."
   ]
  },
  {
   "cell_type": "code",
   "execution_count": 26,
   "metadata": {},
   "outputs": [
    {
     "data": {
      "image/png": "[encoded data removed]",
      "text/latex": [
       "$$\\pi_{t-1} - \\gamma \\phi y_{t-1} + \\gamma y_{t} - \\phi s_{t-1} + s_{t} = \\frac{v_{t} - y_{t} \\left(\\alpha b + 1\\right)}{\\alpha h}$$"
      ],
      "text/plain": [
       "                                                  vₜ - yₜ⋅(α⋅b + 1)\n",
       "\\pi_{t-1} - γ⋅φ⋅y_{t-1} + γ⋅yₜ - φ⋅s_{t-1} + sₜ = ─────────────────\n",
       "                                                         α⋅h       "
      ]
     },
     "execution_count": 26,
     "metadata": {},
     "output_type": "execute_result"
    }
   ],
   "source": [
    "SRAS_AD = sm.Eq(\n",
    "                pi_t_1 + gamma * y_t  - phi * gamma * y_t_1 + s_t - phi * s_t_1, \n",
    "                1/(h * alpha) * (v_t - (1 + b * alpha) * y_t))\n",
    "SRAS_AD"
   ]
  },
  {
   "cell_type": "markdown",
   "metadata": {},
   "source": [
    "Then we can solve for $y_t$"
   ]
  },
  {
   "cell_type": "code",
   "execution_count": 27,
   "metadata": {},
   "outputs": [
    {
     "name": "stdout",
     "output_type": "stream",
     "text": [
      "The solution for output y_t is:\n"
     ]
    },
    {
     "data": {
      "image/png": "[encoded data removed]",
      "text/latex": [
       "$$\\frac{- \\pi_{t-1} \\alpha h + \\alpha \\gamma h \\phi y_{t-1} + \\alpha h \\phi s_{t-1} - \\alpha h s_{t} + v_{t}}{\\alpha b + \\alpha \\gamma h + 1}$$"
      ],
      "text/plain": [
       "-\\pi_{t-1}⋅α⋅h + α⋅γ⋅h⋅φ⋅y_{t-1} + α⋅h⋅φ⋅s_{t-1} - α⋅h⋅sₜ + vₜ\n",
       "──────────────────────────────────────────────────────────────\n",
       "                       α⋅b + α⋅γ⋅h + 1                        "
      ]
     },
     "execution_count": 27,
     "metadata": {},
     "output_type": "execute_result"
    }
   ],
   "source": [
    "# Solve the equation for y_t\n",
    "yt_sol = sm.solve(SRAS_AD,y_t)[0]\n",
    "print(f'The solution for output y_t is:')\n",
    "yt_sol"
   ]
  },
  {
   "cell_type": "markdown",
   "metadata": {},
   "source": [
    "Then insert the above solution into the AD-curve to find $\\pi_t$"
   ]
  },
  {
   "cell_type": "code",
   "execution_count": 29,
   "metadata": {},
   "outputs": [
    {
     "name": "stdout",
     "output_type": "stream",
     "text": [
      "The solution for inflaton pi_t is:\n"
     ]
    },
    {
     "data": {
      "image/png": "[encoded data removed]",
      "text/latex": [
       "$$\\frac{v_{t} - \\frac{\\left(\\alpha b + 1\\right) \\left(- \\pi_{t-1} \\alpha h + \\alpha \\gamma h \\phi y_{t-1} + \\alpha h \\phi s_{t-1} - \\alpha h s_{t} + v_{t}\\right)}{\\alpha b + \\alpha \\gamma h + 1}}{\\alpha h}$$"
      ],
      "text/plain": [
       "     (α⋅b + 1)⋅(-\\pi_{t-1}⋅α⋅h + α⋅γ⋅h⋅φ⋅y_{t-1} + α⋅h⋅φ⋅s_{t-1} - α⋅h⋅sₜ + vₜ\n",
       "vₜ - ─────────────────────────────────────────────────────────────────────────\n",
       "                                  α⋅b + α⋅γ⋅h + 1                             \n",
       "──────────────────────────────────────────────────────────────────────────────\n",
       "                                      α⋅h                                     \n",
       "\n",
       ")\n",
       "─\n",
       " \n",
       "─\n",
       " "
      ]
     },
     "execution_count": 29,
     "metadata": {},
     "output_type": "execute_result"
    }
   ],
   "source": [
    "# Sub yt_sol into the AD equation.\n",
    "pit_sol = 1/(h * alpha) * (v_t - (1 + b * alpha) * yt_sol)\n",
    "print(f'The solution for inflaton pi_t is:')\n",
    "pit_sol"
   ]
  },
  {
   "cell_type": "markdown",
   "metadata": {},
   "source": [
    "To find the equilibrium values for  output, $y_t$, and inflation, $\\pi_t$,given the parameters ($\\alpha$, $h$, $b$, $\\alpha$, $\\gamma$) and $y_{t-1}$ , $\\pi_{t-1}$, $v_t$, $s_t$, and $s_{t-1}$, we will substitute the given parameters into the solution."
   ]
  },
  {
   "cell_type": "code",
   "execution_count": 30,
   "metadata": {},
   "outputs": [
    {
     "name": "stdout",
     "output_type": "stream",
     "text": [
      "The equilibrium for output y_t given the above parameters is:\n"
     ]
    },
    {
     "data": {
      "image/png": "[encoded data removed]",
      "text/latex": [
       "$$- 0.703125 \\pi_{t-1} - 0.703125 s_{t} + 0.244140625 v_{t}$$"
      ],
      "text/plain": [
       "-0.703125⋅\\pi_{t-1} - 0.703125⋅sₜ + 0.244140625⋅vₜ"
      ]
     },
     "execution_count": 30,
     "metadata": {},
     "output_type": "execute_result"
    }
   ],
   "source": [
    "yt_val = yt_sol.subs({alpha: par['alpha'],\n",
    "                      h: par['h'],\n",
    "                      b: par['b'],\n",
    "                      phi: par['phi'],\n",
    "                      gamma: par['gamma']})\n",
    "print(f'The equilibrium for output y_t given the above parameters is:')\n",
    "yt_val"
   ]
  },
  {
   "cell_type": "code",
   "execution_count": 31,
   "metadata": {},
   "outputs": [
    {
     "name": "stdout",
     "output_type": "stream",
     "text": [
      "The equilibrium for inflation pi_t given the above parameters is:\n"
     ]
    },
    {
     "data": {
      "image/png": "[encoded data removed]",
      "text/latex": [
       "$$0.947265625 \\pi_{t-1} + 0.947265625 s_{t} + 0.018310546875 v_{t}$$"
      ],
      "text/plain": [
       "0.947265625⋅\\pi_{t-1} + 0.947265625⋅sₜ + 0.018310546875⋅vₜ"
      ]
     },
     "execution_count": 31,
     "metadata": {},
     "output_type": "execute_result"
    }
   ],
   "source": [
    "pit_val = pit_sol.subs({alpha: par['alpha'],\n",
    "                      h: par['h'],\n",
    "                      b: par['b'],\n",
    "                      phi: par['phi'],\n",
    "                      gamma: par['gamma']})\n",
    "print(f'The equilibrium for inflation pi_t given the above parameters is:')\n",
    "pit_val"
   ]
  },
  {
   "cell_type": "markdown",
   "metadata": {},
   "source": [
    "# Question 2\n",
    "We will first the initial values of $y_{t-1} = \\pi_{t-1} = v_t = s_t = s_{t-1} = 0$. Next we will transform the sympy equations to lambda functions to calculate numerical values for $y_t$ and $\\pi_t$"
   ]
  },
  {
   "cell_type": "code",
   "execution_count": 32,
   "metadata": {},
   "outputs": [
    {
     "data": {
      "text/plain": [
       "'The initial equilibrium value of y_t given the parameters and variables is  0.000'"
      ]
     },
     "execution_count": 32,
     "metadata": {},
     "output_type": "execute_result"
    }
   ],
   "source": [
    "# Create dict for var and set initials value to 0\n",
    "\n",
    "var = {}\n",
    "\n",
    "var['pi_t_1_val'] = 0\n",
    "var['v_t_val'] = 0\n",
    "var['y_t_1_val'] = 0\n",
    "var['s_t_val'] = 0\n",
    "var['s_t_1_val'] = 0\n",
    "\n",
    "# Transform the sympy equations into lambda functions\n",
    "\n",
    "_yt_sol_func = sm.lambdify((alpha, h, b, phi, gamma, pi_t_1, v_t, y_t_1, s_t, s_t_1),yt_sol)\n",
    "\n",
    "def yt_sol_func(pi_t_1, v_t, y_t_1, s_t, s_t_1,\n",
    "                    alpha = par['alpha'],\n",
    "                    h = par['h'],\n",
    "                    b= par['b'],\n",
    "                    phi= par['phi'],\n",
    "                    gamma= par['gamma']):\n",
    "\n",
    "    return _yt_sol_func(alpha, h, b, phi, gamma, pi_t_1, v_t, y_t_1, s_t, s_t_1)\n",
    "\n",
    "\n",
    "# Calculate the numerical values\n",
    "yt_sol_val = yt_sol_func(\n",
    "                         pi_t_1 = var['pi_t_1_val'], \n",
    "                         v_t = var['v_t_val'], \n",
    "                         y_t_1 = var['y_t_1_val'], \n",
    "                         s_t = var['s_t_val'], \n",
    "                         s_t_1 = var['s_t_1_val']\n",
    "                        )\n",
    "\n",
    "f\"The initial equilibrium value of y_t given the parameters and variables is  {yt_sol_val:.3f}\""
   ]
  },
  {
   "cell_type": "code",
   "execution_count": 33,
   "metadata": {},
   "outputs": [
    {
     "data": {
      "text/plain": [
       "'The initial equilibrium value of pi_t given the parameters and variables is  0.000'"
      ]
     },
     "execution_count": 33,
     "metadata": {},
     "output_type": "execute_result"
    }
   ],
   "source": [
    "# Transform the sympy equations into lambda functions\n",
    "_pi_sol_func = sm.lambdify((alpha, h, b, phi, gamma, pi_t_1, v_t, y_t_1, s_t, s_t_1, y_t),pit2_sol)\n",
    "\n",
    "def pi_sol_func(pi_t_1, v_t, y_t_1, s_t, s_t_1, y_t,\n",
    "                    alpha = par['alpha'],\n",
    "                    h = par['h'],\n",
    "                    b= par['b'],\n",
    "                    phi= par['phi'],\n",
    "                    gamma= par['gamma']):\n",
    "\n",
    "    return _pi_sol_func(alpha, h, b, phi, gamma, pi_t_1, v_t, y_t_1, s_t, s_t_1, y_t)\n",
    "\n",
    "pi_sol_val = pi_sol_func(\n",
    "                         pi_t_1 = var['pi_t_1_val'], \n",
    "                         v_t = var['v_t_val'], \n",
    "                         y_t_1 = var['y_t_1_val'], \n",
    "                         s_t = var['s_t_val'], \n",
    "                         s_t_1 = var['s_t_1_val'],\n",
    "                         y_t = yt_sol_val)\n",
    "f\"The initial equilibrium value of pi_t given the parameters and variables is  {pi_sol_val:.3f}\""
   ]
  },
  {
   "cell_type": "markdown",
   "metadata": {},
   "source": [
    "Now we will try to illustrate the AD_curve and SRAS_curve in a AS-AD diagram. We will also create a slider to simulate the changing value of $v_t$"
   ]
  },
  {
   "cell_type": "code",
   "execution_count": 35,
   "metadata": {},
   "outputs": [],
   "source": [
    "# First define the two curves as functions.\n",
    "def AD_curve(alpha, h, b, v_t, y_t):\n",
    "    return 1/(h * alpha) * (v_t - (1 + b * alpha) * y_t)\n",
    "\n",
    "def SRAS_curve(gamma, phi, pi_t_1, y_t_1, s_t, s_t_1, y_t):\n",
    "    return pi_t_1 + gamma * y_t  - phi * gamma * y_t_1 + s_t - phi * s_t_1"
   ]
  },
  {
   "cell_type": "markdown",
   "metadata": {},
   "source": [
    "Creating the plot"
   ]
  },
  {
   "cell_type": "code",
   "execution_count": 49,
   "metadata": {},
   "outputs": [
    {
     "data": {
      "application/vnd.jupyter.widget-view+json": {
       "model_id": "98deec0d234e48339ce13604f9b56fc3",
       "version_major": 2,
       "version_minor": 0
      },
      "text/plain": [
       "interactive(children=(FloatSlider(value=0.0, description='$v_t$', max=0.1), Output()), _dom_classes=('widget-i…"
      ]
     },
     "metadata": {},
     "output_type": "display_data"
    }
   ],
   "source": [
    "# Define interactive figure\n",
    "def interactive_fig(v_t_val):\n",
    "\n",
    "    # Range for output, y_t\n",
    "    y = np.linspace(-0.1, 0.1, 100)\n",
    "    \n",
    "    # Plot the optimal values for y_t and pi_t\n",
    "    y_opt_val = yt_sol_func(\n",
    "                         pi_t_1 = var['pi_t_1_val'], \n",
    "                         v_t = v_t_val, \n",
    "                         y_t_1 = var['y_t_1_val'], \n",
    "                         s_t = var['s_t_val'], \n",
    "                         s_t_1 = var['s_t_1_val'],\n",
    "                        )\n",
    "    \n",
    "    pi_opt_val = pi_sol_func(\n",
    "                         pi_t_1 = var['pi_t_1_val'], \n",
    "                         v_t = v_t_val, \n",
    "                         y_t_1 = var['y_t_1_val'], \n",
    "                         s_t = var['s_t_val'], \n",
    "                         s_t_1 = var['s_t_1_val'],\n",
    "                         y_t = y\n",
    "                        )\n",
    "\n",
    "    # xlabel, ylabel and title\n",
    "    plt.xlabel(r'$y_t$', )\n",
    "    plt.ylabel(r'$\\pi_{t}$', fontsize = 15)\n",
    "    plt.title(r'Equilibrium for AD and SRAS', fontsize = 15)\n",
    "\n",
    "    # Shorten\n",
    "    AD_c = AD_curve(\n",
    "                alpha = par[\"alpha\"],\n",
    "                h = par['h'],\n",
    "                b = par['b'], \n",
    "                v_t = v_t_val,\n",
    "                y_t = y\n",
    "               )\n",
    "    SRAS_c = SRAS_curve(\n",
    "                gamma = par[\"gamma\"],\n",
    "                phi = par['phi'], \n",
    "                pi_t_1 = var['pi_t_1_val'], \n",
    "                y_t_1 = var['y_t_1_val'], \n",
    "                s_t = var['s_t_val'], \n",
    "                s_t_1 = var['s_t_1_val'], \n",
    "                y_t = y\n",
    "                )\n",
    "    # Plot the two curves\n",
    "    plt.plot(y, AD_c, label = \"AD-Curve\")\n",
    "    plt.plot(y, SRAS_c, label = \"SRAS_Curve\")\n",
    "\n",
    "    # Create a dashed lines to show optimal values for y_t and pi_t\n",
    "    plt.axvline(y_opt_val, \n",
    "                linestyle = 'dashed', \n",
    "                color = \"red\", \n",
    "                label = '$y^*$')\n",
    "    \n",
    "    plt.axhline(pi_opt_val, \n",
    "                linestyle = 'dashed', \n",
    "                color = \"green\", \n",
    "                label = '$\\pi^*$')\n",
    "\n",
    "    plt.legend()\n",
    "    \n",
    "    plt.axis([-0.15,0.15,-0.18,0.18])\n",
    "    \n",
    "    # Create arrow, which points at the equilibrium\n",
    "    plt.annotate('Equilibrium', xy=(y_opt_val, pi_opt_val), xytext=(y_opt_val-0.10, pi_opt_val-0.05),\n",
    "            arrowprops=dict(facecolor='black', shrink=0.01))\n",
    "\n",
    "    plt.show()\n",
    "\n",
    "# create slider and plot\n",
    "interactive_plot = interactive(interactive_fig, \n",
    "                               v_t_val=widgets.FloatSlider(description=\"$v_t$\", \n",
    "                                                       min=0.0,\n",
    "                                                       max=0.1,\n",
    "                                                       step=0.1,\n",
    "                                                       value=0,\n",
    "                                                       continuous_update=True) \n",
    "                              )\n",
    "\n",
    "interactive_plot"
   ]
  },
  {
   "cell_type": "markdown",
   "metadata": {},
   "source": [
    "We see how the $v_t$ shock moves the AD-curve up and how output increases."
   ]
  },
  {
   "cell_type": "markdown",
   "metadata": {},
   "source": [
    "# Question 3\n",
    "For this question we will begin by setting the initial values to 0. Then create an array for the two shock variables and filling them up with the autoregressive parameters to simulate the economy."
   ]
  },
  {
   "cell_type": "code",
   "execution_count": 45,
   "metadata": {},
   "outputs": [],
   "source": [
    "par['delta'] = 0.80\n",
    "par['omega'] = 0.15"
   ]
  },
  {
   "cell_type": "code",
   "execution_count": 46,
   "metadata": {},
   "outputs": [],
   "source": [
    "# Initial values\n",
    "y_1 = 0\n",
    "pi_0 = 0\n",
    "s_0 = 0\n",
    "v_0 = 0\n",
    "x_0 = 0.1\n",
    "x_t = 0\n",
    "c_t = 0\n",
    "\n",
    "# Set periods to 100\n",
    "period = 100\n",
    "\n",
    "# Create array and fill in value for initial period\n",
    "v_t = [ par[\"delta\"] * v_0 + x_0 ]\n",
    "s_t = [ par[\"omega\"] * s_0 + c_t ]\n",
    "\n",
    "# Fill up arrays for each period\n",
    "for i in range(0, period):\n",
    "    v_t.append(par['delta'] * v_t[i] + x_t)\n",
    "    s_t.append(par['omega'] * s_t[i] + c_t)"
   ]
  },
  {
   "cell_type": "markdown",
   "metadata": {},
   "source": [
    "Next we want to find all the numeric solutions for $y_t$ and $\\pi_t$. We will create an empty array for $y_t$ and $\\pi_t$ and then fill it up with the solutions from the simulation."
   ]
  },
  {
   "cell_type": "code",
   "execution_count": 59,
   "metadata": {},
   "outputs": [],
   "source": [
    "# Create arrays\n",
    "y_vals = [0]\n",
    "pi_vals = [0]\n",
    "\n",
    "# Loop over each period  and append the solution to the array.\n",
    "for i in range(1, period):\n",
    "    \n",
    "    # y\n",
    "    y_vals_i = yt_sol_func(\n",
    "        v_t=v_t[i],\n",
    "        s_t=s_t[i],\n",
    "        pi_t_1=pi_vals[i-1],\n",
    "        y_t_1=y_vals[i-1],\n",
    "        s_t_1=s_t[i-1]\n",
    "        )\n",
    "    y_vals.append(y_vals_i)\n",
    "    # Pi\n",
    "    pi_vals_i = pi_sol_func(\n",
    "        v_t=v_t[i],\n",
    "        s_t=s_t[i],\n",
    "        y_t=y_vals[i],\n",
    "        pi_t_1=pi_vals[i-1],\n",
    "        y_t_1=y_vals[i-1],\n",
    "        s_t_1=s_t[i-1]\n",
    "        )\n",
    "    pi_vals.append(pi_vals_i)"
   ]
  },
  {
   "cell_type": "markdown",
   "metadata": {},
   "source": [
    "Now we will illustrate this shock to the economy. First we will define functions for the AD curve and the SRAS curve. For the first period, the function will take the initial input."
   ]
  },
  {
   "cell_type": "code",
   "execution_count": 63,
   "metadata": {},
   "outputs": [],
   "source": [
    "# Define functions, which returns the initial numeric solution for the first period and otherwise returns \n",
    "# the value for the simulated periods to come.\n",
    "def AD_curves_func(y_t,period,\n",
    "             h = par['h'],\n",
    "             b = par['b'],\n",
    "             alpha = par['alpha'],\n",
    "             v_t = v_t): \n",
    "    if period == 0: \n",
    "        return 1 / (h * alpha) * (v_0 - (1 + b * alpha) * y_t)\n",
    "    else:\n",
    "        return 1 / (h * alpha) * (v_t[period - 1] - (1 + b * alpha) * y_t)\n",
    "    \n",
    "def SRAS_curves_func(y_t,period,\n",
    "               gamma = par['gamma'],\n",
    "               phi = par['phi'],\n",
    "               s_t = s_t): \n",
    "\n",
    "    if period == 0: \n",
    "        return pi_0 + gamma * y_t - phi * y_1 + s_t[period] - phi * s_0\n",
    "    else:\n",
    "        y_values = [0]\n",
    "        pi_values = [0]\n",
    "        for i in range(1,period): \n",
    "            y_val_i = yt_sol_func(\n",
    "            v_t=v_t[i],\n",
    "            s_t=s_t[i],\n",
    "            pi_t_1=pi_vals[i-1],\n",
    "            y_t_1=y_vals[i-1],\n",
    "            s_t_1=s_t[i-1]\n",
    "        )\n",
    "            y_values.append(y_val_i)\n",
    "            pi_val_i = pi_sol_func(\n",
    "            v_t = v_t[i],\n",
    "            s_t = s_t[i],\n",
    "            y_t = y_vals[i],\n",
    "            pi_t_1 = pi_vals[i-1],\n",
    "            y_t_1 = y_vals[i-1],\n",
    "            s_t_1 = s_t[i-1])\n",
    "            pi_values.append(pi_val_i)\n",
    "            \n",
    "        return pi_values[period-1] + gamma * y_t - phi * gamma * y_values[period - 1] + s_t[period] - phi * s_t[period-1] \n",
    "    "
   ]
  },
  {
   "cell_type": "code",
   "execution_count": 81,
   "metadata": {},
   "outputs": [
    {
     "data": {
      "image/png": "[encoded data removed]",
      "text/plain": [
       "<Figure size 864x432 with 1 Axes>"
      ]
     },
     "metadata": {
      "needs_background": "light"
     },
     "output_type": "display_data"
    }
   ],
   "source": [
    "#  Constructing graph\n",
    "\n",
    "def simulate_economy(vt,st): \n",
    "    \n",
    "    # range for output, y\n",
    "    \n",
    "    y = np.linspace(-0.05,0.05,100)\n",
    "    \n",
    "    # Create AD-curves\n",
    "    AD_0 = AD_curves_func(y, 0, v_t = v_t)\n",
    "    AD_1 = AD_curves_func(y, 1, v_t = v_t)\n",
    "    AD_2 = AD_curves_func(y, 2, v_t = v_t)\n",
    "    AD_5 = AD_curves_func(y, 5, v_t = v_t)\n",
    "    AD_10 = AD_curves_func(y, 10, v_t = v_t)\n",
    "    AD_100 = AD_curves_func(y, 100, v_t = v_t)\n",
    "    \n",
    "    # Create SRAS-curves\n",
    "    SRAS_0 = SRAS_curves_func(y, 0, s_t = s_t)\n",
    "    SRAS_1 = SRAS_curves_func(y, 1, s_t = s_t)\n",
    "    SRAS_2 = SRAS_curves_func(y, 2, s_t = s_t)\n",
    "    SRAS_5 = SRAS_curves_func(y, 5, s_t = s_t)\n",
    "    SRAS_10 = SRAS_curves_func(y, 10, s_t = s_t)\n",
    "    SRAS_100 = SRAS_curves_func(y, 10 , s_t = s_t)\n",
    "    \n",
    "    \n",
    "    # Plot the figure\n",
    "    plt.figure(figsize=(12,6))\n",
    "    \n",
    "    # Plot AD curves\n",
    "    plt.plot(y,AD_0,label=('$AD_0$'),linewidth=5,color='#1843ce')\n",
    "    plt.plot(y,AD_1,label='$AD_1$',color='#1863ce')\n",
    "    plt.plot(y,AD_2,label='$AD_2$',color='#1879ce')\n",
    "    plt.plot(y,AD_5,label='$AD_5$',color='#189dce')\n",
    "    plt.plot(y,AD_10,label='$AD_{10}$',color='#18b5ce')\n",
    "    plt.plot(y,AD_100,label='$AD_{100}$',color='#38c0e2')\n",
    "    \n",
    "    # Plot SRAS curves\n",
    "    plt.plot(y,SRAS_0,label='$SRAS_0$',linewidth=5,color='#961618')\n",
    "    plt.plot(y,SRAS_1,label='$SRAS_1$',color='#ba1a1c')\n",
    "    plt.plot(y,SRAS_2,label='$SRAS_2$',color='#d62022')\n",
    "    plt.plot(y,SRAS_5,label='$SRAS_{5}$',color='#f92527')\n",
    "    plt.plot(y,SRAS_10,label='$SRAS_{10}$',color='#f94345')\n",
    "    plt.plot(y,SRAS_100,label='$SRAS_{100}$',color='#fc585a')\n",
    "    \n",
    "    # label, title \n",
    "    plt.title('AD and SRAS', fontsize = 15)\n",
    "    plt.xlabel('$y_t$', fontsize = 15)\n",
    "    plt.ylabel('$\\pi_t$', fontsize = 15)\n",
    "\n",
    "    # d. Create a dashed lines to show optimal values for y_t and pi_t \n",
    "    plt.axvline(yt_sol_val, linestyle='dashed', label='$y^*$')\n",
    "    plt.axhline(pi_sol_val, linestyle='dashed', label='$\\pi^*$')\n",
    "    \n",
    "    plt.legend()\n",
    "    \n",
    "    # Creates an arrow, which point at the way the AD-curve transition back to equilibrium.\n",
    "    plt.annotate('', xy=(0, 0), xytext=(0.0, 0.035),\n",
    "            arrowprops=dict(facecolor='black', shrink=0.01))\n",
    "    \n",
    "simulate_economy(v_t,s_t)"
   ]
  },
  {
   "cell_type": "markdown",
   "metadata": {},
   "source": [
    "# Question 4\n",
    "For this question we choose a random seed numer, 189, to generate $x_t$ and $c_t$. "
   ]
  },
  {
   "cell_type": "code",
   "execution_count": 82,
   "metadata": {},
   "outputs": [],
   "source": [
    "par['sigma_x'] = 3.492\n",
    "par['sigma_c'] = 0.2"
   ]
  },
  {
   "cell_type": "code",
   "execution_count": 96,
   "metadata": {},
   "outputs": [],
   "source": [
    "# Choose 1000 periods and set seed number to 189, then generate x_t and c_t \n",
    "period = 1000\n",
    "seed = 189\n",
    "np.random.seed(seed)\n",
    "x_t = np.random.normal(0,par['sigma_x'],period)\n",
    "c_t = np.random.normal(0,par['sigma_c'],period)"
   ]
  },
  {
   "cell_type": "markdown",
   "metadata": {},
   "source": [
    "Next we will create an empty array for the two shock variables and fill them up as done previously."
   ]
  },
  {
   "cell_type": "code",
   "execution_count": 97,
   "metadata": {},
   "outputs": [],
   "source": [
    "# Create empty vectors\n",
    "v_vec = [0]\n",
    "s_vec = [0]\n",
    "\n",
    "\n",
    "# Loop over each x_t and c_t\n",
    "for i in range(1, period):\n",
    "    v_i = par[\"delta\"] * v_vec[i-1] + x_t[i]\n",
    "    v_vec.append(v_i)\n",
    "    s_i = par[\"omega\"] * s_vec[i-1] + c_t[i]\n",
    "    s_vec.append(s_i)"
   ]
  },
  {
   "cell_type": "markdown",
   "metadata": {},
   "source": [
    "Next we want to find the new numeric solution to arrays for $y_t$ and $\\pi_t$"
   ]
  },
  {
   "cell_type": "code",
   "execution_count": 98,
   "metadata": {},
   "outputs": [],
   "source": [
    "# \n",
    "y_vec = [0]\n",
    "pi_vec = [0]\n",
    "\n",
    "# Loop over each period and find the numeric solutions.\n",
    "for i in range(1, period): \n",
    "    \n",
    "    y_val_i = yt_sol_func(\n",
    "        v_t=v_vec[i],\n",
    "        s_t=s_vec[i],\n",
    "        pi_t_1=pi_vec[i-1],\n",
    "        y_t_1=y_vec[i-1],\n",
    "        s_t_1=s_vec[i-1]\n",
    "        )\n",
    "    \n",
    "    y_vec.append(y_val_i)\n",
    "    \n",
    "    pi_val_i = pi_sol_func(\n",
    "        pi_t_1=pi_vec[i-1],\n",
    "        v_t=v_vec[i],\n",
    "        y_t_1=y_vec[i-1],\n",
    "        s_t=s_vec[i],\n",
    "        s_t_1=s_vec[i-1],\n",
    "        y_t=y_vec[i],\n",
    "        )\n",
    "    pi_vec.append(pi_val_i)"
   ]
  },
  {
   "cell_type": "markdown",
   "metadata": {},
   "source": [
    "Now we can find the mean, variance, correlation etc."
   ]
  },
  {
   "cell_type": "code",
   "execution_count": 45,
   "metadata": {},
   "outputs": [
    {
     "data": {
      "text/plain": [
       "'1, The variance of y_t is: 1.993'"
      ]
     },
     "execution_count": 45,
     "metadata": {},
     "output_type": "execute_result"
    }
   ],
   "source": [
    "# Variance for y\n",
    "y_variance = np.var(y_vec)\n",
    "f'1, The variance of y_t is: {y_variance:.3f}'"
   ]
  },
  {
   "cell_type": "code",
   "execution_count": 46,
   "metadata": {},
   "outputs": [
    {
     "data": {
      "text/plain": [
       "'2. The variance of pi_t is: 1.206'"
      ]
     },
     "execution_count": 46,
     "metadata": {},
     "output_type": "execute_result"
    }
   ],
   "source": [
    "# Variance for pi\n",
    "pi_variance = np.var(pi_vec)\n",
    "f'2. The variance of pi_t is: {pi_variance:.3f}'"
   ]
  },
  {
   "cell_type": "code",
   "execution_count": 47,
   "metadata": {},
   "outputs": [
    {
     "data": {
      "text/plain": [
       "'3. The correlation between y_t and pi_t is: -0.234'"
      ]
     },
     "execution_count": 47,
     "metadata": {},
     "output_type": "execute_result"
    }
   ],
   "source": [
    "# Correlation between y and pi\n",
    "y_pi_corr = np.corrcoef(y_vec,pi_vec)\n",
    "f'3. The correlation between y_t and pi_t is: {y_pi_corr[1,0]:.3f}'"
   ]
  },
  {
   "cell_type": "code",
   "execution_count": 48,
   "metadata": {},
   "outputs": [
    {
     "data": {
      "text/plain": [
       "'4. The auto-correlation between y_t and y_t_1 is: 0.791'"
      ]
     },
     "execution_count": 48,
     "metadata": {},
     "output_type": "execute_result"
    }
   ],
   "source": [
    "# Auto-correlation between y_t_1 and y_t\n",
    "autocoef_y = np.corrcoef(np.array([y_vec[:-1],y_vec[1:]]))\n",
    "f'4. The auto-correlation between y_t and y_t_1 is: {autocoef_y[1,0]:.3f}'"
   ]
  },
  {
   "cell_type": "code",
   "execution_count": 49,
   "metadata": {},
   "outputs": [
    {
     "data": {
      "text/plain": [
       "'5. The auto-correlation between pi_t and pi_t_1 is: 0.980'"
      ]
     },
     "execution_count": 49,
     "metadata": {},
     "output_type": "execute_result"
    }
   ],
   "source": [
    "# Auto-correlation between pi_t_1 and pi_t\n",
    "autocoef_pi = np.corrcoef(np.array([pi_vec[:-1],pi_vec[1:]]))\n",
    "f'5. The auto-correlation between pi_t and pi_t_1 is: {autocoef_pi[1,0]:.3f}'"
   ]
  },
  {
   "cell_type": "markdown",
   "metadata": {},
   "source": [
    "# Question 5 \n",
    "For this question, we will begin by resetting the variables by setting them equal to their initial values. Then we will define a function, which first create two empty arrays and then loop over each period to fill them up with the numeric solutions. The function will return the correlation coeffecient between $y_t$ and $\\pi_t$"
   ]
  },
  {
   "cell_type": "code",
   "execution_count": 101,
   "metadata": {},
   "outputs": [],
   "source": [
    "# Set variables to their initial values\n",
    "s_0 = 0\n",
    "v_0 = 0\n",
    "x_0 = 0.1\n",
    "x_t = 0\n",
    "c_t = 0\n",
    "\n",
    "# Define function\n",
    "def corr_sim(corr):\n",
    "    \n",
    "    # Create arrays\n",
    "    y_sim_vec = [0]\n",
    "    pi_sim_vec = [0]\n",
    "    \n",
    "    \n",
    "    # Loop over each period and find numerical solutions.\n",
    "    for i in range (1, period):\n",
    "        \n",
    "        y_sim = yt_sol_func(\n",
    "        v_t=v_vec[i],\n",
    "        s_t=s_vec[i],\n",
    "        pi_t_1=pi_sim_vec[i-1],\n",
    "        y_t_1=y_sim_vec[i-1],\n",
    "        s_t_1=s_vec[i-1],\n",
    "        phi = corr\n",
    "        )\n",
    "        y_sim_vec.append(y_sim)\n",
    "        \n",
    "        \n",
    "        pi_sim = pi_sol_func(\n",
    "        pi_t_1=pi_sim_vec[i-1],\n",
    "        v_t=v_vec[i],\n",
    "        y_t_1=y_sim_vec[i-1],\n",
    "        s_t=s_vec[i],\n",
    "        s_t_1=s_vec[i-1],\n",
    "        y_t=y_sim_vec[i],\n",
    "        phi = corr\n",
    "        )\n",
    "        pi_sim_vec.append(pi_sim)\n",
    "        \n",
    "    # Return the correlation coeffecient\n",
    "    return np.corrcoef(y_sim_vec,pi_sim_vec)[1,0]"
   ]
  },
  {
   "cell_type": "markdown",
   "metadata": {},
   "source": [
    "Now we will plot how the correlation increases for increasing values of $\\phi$."
   ]
  },
  {
   "cell_type": "code",
   "execution_count": 105,
   "metadata": {},
   "outputs": [
    {
     "data": {
      "image/png": "[encoded data removed]",
      "text/plain": [
       "<Figure size 576x360 with 1 Axes>"
      ]
     },
     "metadata": {
      "needs_background": "light"
     },
     "output_type": "display_data"
    }
   ],
   "source": [
    "# Create vec for phi\n",
    "phi_vec = np.linspace(0,1,100)\n",
    "\n",
    "# Create empty vec for correlation and loop over each correlation between y_t and pi_t\n",
    "correlation_vec = np.empty(100)\n",
    "for i, val in enumerate(phi_vec):\n",
    "    correlation_vec[i] = corr_sim(val)\n",
    "\n",
    "# plot\n",
    "plt.figure(figsize=(8,5))\n",
    "plt.plot(phi_vec,correlation_vec)\n",
    "plt.title('Correlation between $y_t$ and $\\pi_t$')\n",
    "plt.xlabel('$\\phi$')\n",
    "plt.ylabel('Correlation coef between $y_t$ and $\\pi_t$')\n",
    "plt.grid(True)"
   ]
  },
  {
   "cell_type": "markdown",
   "metadata": {},
   "source": [
    "We see from the above plot how the correlation increases for increasing values of $\\phi$\n",
    "Now we will make use of scipy.optimize to find the value of $\\phi$, which ensure that the correlation coef between $y_t$ and $pi_t$ is 0.31"
   ]
  },
  {
   "cell_type": "code",
   "execution_count": 106,
   "metadata": {},
   "outputs": [
    {
     "name": "stdout",
     "output_type": "stream",
     "text": [
      "\"The optimal value of phi is 0.979 to ensure the correlation coef between y_t and pi_t is 0.31\n"
     ]
    }
   ],
   "source": [
    "# import optimize\n",
    "from scipy import optimize\n",
    "# Set x_0 = 0\n",
    "x_0 = 0\n",
    "\n",
    "# Create a lambda function\n",
    "obj = lambda corr: (corr_sim(corr)-0.31)**2\n",
    "\n",
    "# minimize_scalar with the bounded method\n",
    "result = optimize.minimize_scalar(obj,x_0,method='bounded',bounds=[0.5,1])\n",
    "print(f'\"The optimal value of phi is {result.x:.3} to ensure the correlation coef between y_t and pi_t is 0.31')"
   ]
  },
  {
   "cell_type": "markdown",
   "metadata": {},
   "source": [
    "# Quesiton 6\n",
    "Unfortunately, we ran into some issues when trying to solve the last question. \n",
    "We tried to enforce the similar method as in the previous question, but was unable to do it correctly.\n",
    "Anyways, we notice that the $var(y_t)$, $corr(y_t,\\pi_t$) and $corr(y_{t-1},y_t)$ somewhat matches the US economy, while the others does not."
   ]
  },
  {
   "cell_type": "markdown",
   "metadata": {},
   "source": [
    "# 3. Exchange economy"
   ]
  },
  {
   "cell_type": "code",
   "execution_count": 561,
   "metadata": {},
   "outputs": [],
   "source": [
    "# a. parameters\n",
    "N = 50000\n",
    "mu = np.array([3,2,1])\n",
    "Sigma = np.array([[0.25, 0, 0], [0, 0.25, 0], [0, 0, 0.25]])\n",
    "gamma = 0.8\n",
    "zeta = 1\n",
    "\n",
    "# b. random draws\n",
    "seed = 1986\n",
    "np.random.seed(seed)\n",
    "\n",
    "# preferences\n",
    "alphas = np.exp(np.random.multivariate_normal(mu, Sigma, size=N))\n",
    "betas = alphas/np.reshape(np.sum(alphas,axis=1),(N,1))\n",
    "\n",
    "# endowments\n",
    "e1 = np.random.exponential(zeta,size=N)\n",
    "e2 = np.random.exponential(zeta,size=N)\n",
    "e3 = np.random.exponential(zeta,size=N)"
   ]
  },
  {
   "cell_type": "markdown",
   "metadata": {},
   "source": [
    "# Question 1\n",
    "As the utility function is presented as a Cobb-douglas, we know that $beta_j$ is the budget share for each good."
   ]
  },
  {
   "cell_type": "code",
   "execution_count": 562,
   "metadata": {},
   "outputs": [],
   "source": [
    "# Create arrays for each agent's preferences of the three goods\n",
    "beta1=betas[:,0]\n",
    "beta2=betas[:,1]\n",
    "beta3=betas[:,2]"
   ]
  },
  {
   "cell_type": "code",
   "execution_count": 563,
   "metadata": {},
   "outputs": [
    {
     "data": {
      "image/png": "[encoded data removed]",
      "text/plain": [
       "<Figure size 1080x720 with 3 Axes>"
      ]
     },
     "metadata": {
      "needs_background": "light"
     },
     "output_type": "display_data"
    }
   ],
   "source": [
    "# Create figure\n",
    "fig = plt.figure(figsize=(15,10))\n",
    "\n",
    "# Add a subplot for each good\n",
    "ax1 = fig.add_subplot(2,3,1)\n",
    "ax1.hist(beta1, bins=200, color =\"#f7d56f\")\n",
    "ax1.set_title('Good #1')\n",
    "ax1.set_xlabel('$\\\\beta_1$')\n",
    "ax1.set_ylabel('Number of agents')\n",
    "plt.axis([0, 1, 0, 1300])\n",
    "        \n",
    "ax2 = fig.add_subplot(2,3,2)\n",
    "ax2.hist(beta2, bins=200, color =\"#6ab2f2\")\n",
    "ax2.set_title('Good #2')\n",
    "ax2.set_xlabel('$\\\\beta_2$')\n",
    "plt.axis([0, 1, 0, 1300])\n",
    "\n",
    "ax3 = fig.add_subplot(2,3,3)\n",
    "ax3.hist(beta3, bins=200, color =\"#66f47e\")\n",
    "ax3.set_title('Good #3')\n",
    "ax3.set_xlabel('$\\\\beta_3$')\n",
    "plt.axis([0, 1, 0, 1300])\n",
    "\n",
    "\n",
    "plt.show()    "
   ]
  },
  {
   "cell_type": "markdown",
   "metadata": {},
   "source": [
    "# Question 2\n",
    "We will begin by defining the demand function for each of the three goods. "
   ]
  },
  {
   "cell_type": "code",
   "execution_count": 564,
   "metadata": {},
   "outputs": [],
   "source": [
    "# The function takes the two price vectors p1, p2 and three endowments e1, e2, e3 and the betas.\n",
    "# The income is defined as price times endowments\n",
    "# The function returns the demand for each good \n",
    "\n",
    "def demand_good_1_func(p1,p2,e1,e2,e3,betas):\n",
    "    I = p1*e1+p2*e2+e3\n",
    "    return beta1*I/p1\n",
    "\n",
    "def demand_good_2_func(p1,p2,e1,e2,e3,betas):\n",
    "    I = p1 * e1 + p2 * e2 + e3\n",
    "    return beta2*I/p2\n",
    "\n",
    "def demand_good_3_func(p1,p2,e1,e2,e3,betas):\n",
    "    I = p1 * e1 + p2 * e2 + e3\n",
    "    return beta3*I"
   ]
  },
  {
   "cell_type": "markdown",
   "metadata": {},
   "source": [
    "Then we will define the excess demand functions for each good."
   ]
  },
  {
   "cell_type": "code",
   "execution_count": 565,
   "metadata": {},
   "outputs": [],
   "source": [
    "def excess_demand_good_1_func(p1,p2,e1,e2,e3,betas):\n",
    "\n",
    "    # a. demand - Sum of all demand for good 1\n",
    "    demand = np.sum(demand_good_1_func(p1,p2,e1,e2,e3,betas))\n",
    "    \n",
    "    # b. supply - Sum of all endowments\n",
    "    supply = np.sum(e1)\n",
    "    \n",
    "    # c. excess demand - Demand less the supply\n",
    "    excess_demand = demand-supply\n",
    "    \n",
    "    return excess_demand\n",
    "\n",
    "def excess_demand_good_2_func(p1,p2,e1,e2,e3,betas):\n",
    "    \n",
    "    # a. demand - Sum of all demand for good 2\n",
    "    demand = np.sum(demand_good_2_func(p1,p2,e1,e2,e3,betas))\n",
    "    \n",
    "    # b. upply - Sum of all endowments\n",
    "    supply = np.sum(e2)\n",
    "    \n",
    "    # c. excess demand - Demand less the supply\n",
    "    excess_demand = demand-supply\n",
    "    \n",
    "    return excess_demand\n",
    "\n",
    "\n",
    "def excess_demand_good_3_func(p1,p2,e1,e2,e3,betas):\n",
    "    \n",
    "    # a. demand - Sum of all demand for good 3\n",
    "    demand = np.sum(demand_good_3_func(p1,p2,e1,e2,e3,betas))\n",
    "    \n",
    "    # b. Sum of all endowments\n",
    "    supply = np.sum(e3)\n",
    "    \n",
    "    # c. excess demand - Demand less the supply\n",
    "    excess_demand = demand-supply\n",
    "    \n",
    "    return excess_demand"
   ]
  },
  {
   "cell_type": "markdown",
   "metadata": {},
   "source": [
    "Next we will first define the two price vectors for p1 and p2, which we define as a linear vector from [0.5,10]. Then we will make use of np.meshgrid to return grids from the price vectors.\n",
    "We will then create three empty grids for each excess grid and then fill them up with each value in the price vectors given the demand excess functions."
   ]
  },
  {
   "cell_type": "code",
   "execution_count": 566,
   "metadata": {},
   "outputs": [],
   "source": [
    "# choose a size for the vectors\n",
    "Num = 100\n",
    "\n",
    "\n",
    "# Create shape tuple\n",
    "shape_tuple = (Num,Num)\n",
    "\n",
    "# Create price vectors\n",
    "p1_vec = np.linspace(0.5,10,Num)\n",
    "p2_vec = np.linspace(0.5,10,Num)\n",
    "\n",
    "\n",
    "# Create meshgrid from price vectors\n",
    "p1_grid, p2_grid = np.meshgrid(p1_vec, p2_vec) \n",
    "\n",
    "\n",
    "# Define three empty excess grids \n",
    "excess1 = np.empty((shape_tuple))\n",
    "excess3 = np.empty((shape_tuple))\n",
    "excess3 = np.empty((shape_tuple))\n",
    "\n",
    "\n",
    "# Iterate over each value in the price vector to fill up the excess grids\n",
    "for i, p1 in enumerate(p1_vec):\n",
    "    for j, p2 in enumerate(p2_vec):\n",
    "        excess1[i,j]=excess_demand_good_1_func(p1,p2,e1,e2,e3,betas)\n",
    "        excess2[i,j]=excess_demand_good_2_func(p1,p2,e1,e2,e3,betas)\n",
    "        excess3[i,j]=excess_demand_good_3_func(p1,p2,e1,e2,e3,betas)\n"
   ]
  },
  {
   "cell_type": "code",
   "execution_count": 567,
   "metadata": {},
   "outputs": [],
   "source": [
    "# Import packages\n",
    "%matplotlib inline\n",
    "import matplotlib.pyplot as plt # baseline modul\n",
    "from mpl_toolkits.mplot3d import Axes3D # for 3d figures\n",
    "from matplotlib import cm # for color"
   ]
  },
  {
   "cell_type": "code",
   "execution_count": 568,
   "metadata": {},
   "outputs": [
    {
     "data": {
      "image/png": "[encoded data removed]",
      "text/plain": [
       "<Figure size 1080x360 with 3 Axes>"
      ]
     },
     "metadata": {
      "needs_background": "light"
     },
     "output_type": "display_data"
    }
   ],
   "source": [
    "\n",
    "fig = plt.figure(figsize=(15,5)) # create the figure\n",
    "\n",
    "# For each good, plot the price meshes and the excess demand. \n",
    "\n",
    "ax1 = fig.add_subplot(1,3,1,projection='3d') # create a 3d axis in the figure \n",
    "ax1.plot_surface(p1_grid,p2_grid,excess1,cmap=cm.jet) # create surface plot in the axis\n",
    "ax1.invert_xaxis()\n",
    "ax1.set_title('Excess demand of good 1')\n",
    "ax1.set_xlabel('$p_2$')\n",
    "ax1.set_ylabel('$p_1$')\n",
    "ax1.set_zlabel('$z_1$') \n",
    "ax1.xaxis.pane.fill = False\n",
    "ax1.yaxis.pane.fill = False\n",
    "ax1.zaxis.pane.fill = False\n",
    "\n",
    "ax2 = fig.add_subplot(1,3,2,projection='3d') # create a 3d axis in the figure \n",
    "ax2.plot_surface(p1_grid,p2_grid,excess2,cmap=cm.jet)\n",
    "ax2.invert_xaxis()\n",
    "ax2.set_title('Excess demand of good 2')\n",
    "ax2.set_xlabel('$p_2$')\n",
    "ax2.set_ylabel('$p_1$')\n",
    "ax2.set_zlabel('$z_2$'); \n",
    "ax2.xaxis.pane.fill = False\n",
    "ax2.yaxis.pane.fill = False\n",
    "ax2.zaxis.pane.fill = False\n",
    "\n",
    "ax3 = fig.add_subplot(1,3,3,projection='3d') # create a 3d axis in the figure \n",
    "ax3.plot_surface(p1_grid,p2_grid,excess3,cmap=cm.jet)\n",
    "ax3.invert_xaxis()\n",
    "ax3.set_title('Excess demand of good 3')\n",
    "ax3.set_xlabel('$p_2$')\n",
    "ax3.set_ylabel('$p_1$')\n",
    "ax3.set_zlabel('$z_3$')\n",
    "ax3.xaxis.pane.fill = False\n",
    "ax3.yaxis.pane.fill = False\n",
    "ax3.zaxis.pane.fill = False;"
   ]
  },
  {
   "cell_type": "markdown",
   "metadata": {},
   "source": [
    "# Question 3\n",
    "We will begin this question by defining a function for the tâtonnement process, which takes p1, p2, e1, e2, e3, betas, kappa (Which adjust the aggresivivity), eps (the tolerance), maxiter (Max iterations)."
   ]
  },
  {
   "cell_type": "code",
   "execution_count": 569,
   "metadata": {},
   "outputs": [],
   "source": [
    "def find_equilibrium(p1,p2,e1,e2,e3,betas,kappa=0.9,eps=1e-8,maxiter=3000):\n",
    "    \n",
    "    t = 0\n",
    "    while True:\n",
    "\n",
    "        # a. excess demand for good 1 and good 2\n",
    "        Z1 = excess_demand_good_1_func(p1,p2,e1,e2,e3,betas)\n",
    "        Z2 = excess_demand_good_2_func(p1,p2,e1,e2,e3,betas)\n",
    "        \n",
    "        # b: If the excess demand for good 1 or good 2 is lower (or maxiter has been reached) than the tolerance\n",
    "        #  then break.\n",
    "        if  np.abs(Z1) < eps and np.abs(Z2) < eps or t >= maxiter:\n",
    "            print(f'{t:3d}: p1 = {p1:12.8f} -> excess demand -> {Z1:14.8f} p2 = {p2:12.8f} -> excess demand -> {Z2:14.8f}')\n",
    "            break    \n",
    "    \n",
    "        # c. If not, then set the prices as below\n",
    "        p1 = p1 + kappa*Z1/betas.size\n",
    "        p2 = p2 + kappa*Z2/betas.size\n",
    "        \n",
    "        # d. return \n",
    "        if t < 5 or t%25 == 0:\n",
    "            print(f'{t:3d}: p1 = {p1:12.8f} -> excess demand -> {Z1:14.8f} p2 = {p2:12.8f} -> excess demand -> {Z2:14.8f}')\n",
    "        elif t == 5:\n",
    "            print('   ...')\n",
    "            \n",
    "        t += 1    \n",
    "\n",
    "    return p1, p2"
   ]
  },
  {
   "cell_type": "markdown",
   "metadata": {},
   "source": [
    "Now we guess on the prices and run the function."
   ]
  },
  {
   "cell_type": "code",
   "execution_count": 570,
   "metadata": {},
   "outputs": [
    {
     "name": "stdout",
     "output_type": "stream",
     "text": [
      "  0: p1 =   3.13242998 -> excess demand -> 24830.62081187 p2 =   2.89503410 -> excess demand -> -19681.10609181\n",
      "  1: p1 =   3.24953265 -> excess demand -> 21956.75110613 p2 =   2.79653311 -> excess demand -> -18468.93528892\n",
      "  2: p1 =   3.35382488 -> excess demand -> 19554.79244949 p2 =   2.70436429 -> excess demand -> -17281.65490885\n",
      "  3: p1 =   3.44723557 -> excess demand -> 17514.50532486 p2 =   2.61840426 -> excess demand -> -16117.50536588\n",
      "  4: p1 =   3.53129068 -> excess demand -> 15760.33324137 p2 =   2.53852765 -> excess demand -> -14976.86431327\n",
      "   ...\n",
      " 25: p1 =   4.32935739 -> excess demand ->  3668.14907331 p2 =   1.88994781 -> excess demand ->  -737.37747432\n",
      " 50: p1 =   4.69763396 -> excess demand ->  2299.14161154 p2 =   1.95010213 -> excess demand ->   778.99889458\n",
      " 75: p1 =   4.96884180 -> excess demand ->  1824.74465940 p2 =   2.04851523 -> excess demand ->   679.27508163\n",
      "100: p1 =   5.18816891 -> excess demand ->  1494.51036578 p2 =   2.13043481 -> excess demand ->   558.86386466\n",
      "125: p1 =   5.36929385 -> excess demand ->  1243.02199491 p2 =   2.19816371 -> excess demand ->   464.74526696\n",
      "150: p1 =   5.52082611 -> excess demand ->  1045.38867190 p2 =   2.25480861 -> excess demand ->   390.71295581\n",
      "175: p1 =   5.64883988 -> excess demand ->   886.71796026 p2 =   2.30264612 -> excess demand ->   331.31089719\n",
      "200: p1 =   5.75780927 -> excess demand ->   757.22505816 p2 =   2.34335602 -> excess demand ->   282.85957009\n",
      "225: p1 =   5.85113097 -> excess demand ->   650.16880321 p2 =   2.37821255 -> excess demand ->   242.82156882\n",
      "250: p1 =   5.93144568 -> excess demand ->   560.73558333 p2 =   2.40820553 -> excess demand ->   209.38689340\n",
      "275: p1 =   6.00084623 -> excess demand ->   485.38651202 p2 =   2.43411891 -> excess demand ->   181.22623081\n",
      "300: p1 =   6.06101767 -> excess demand ->   421.45595138 p2 =   2.45658349 -> excess demand ->   157.33916882\n",
      "325: p1 =   6.11333460 -> excess demand ->   366.89448568 p2 =   2.47611363 -> excess demand ->   136.95713969\n",
      "350: p1 =   6.15893085 -> excess demand ->   320.09870835 p2 =   2.49313343 -> excess demand ->   119.47922356\n",
      "375: p1 =   6.19875040 -> excess demand ->   279.79517965 p2 =   2.50799584 -> excess demand ->   104.42842920\n",
      "400: p1 =   6.23358544 -> excess demand ->   244.95929392 p2 =   2.52099698 -> excess demand ->    91.42115569\n",
      "425: p1 =   6.26410534 -> excess demand ->   214.75728406 p2 =   2.53238699 -> excess demand ->    80.14538099\n",
      "450: p1 =   6.29087897 -> excess demand ->   188.50394327 p2 =   2.54237843 -> excess demand ->    70.34477323\n",
      "475: p1 =   6.31439229 -> excess demand ->   165.63125967 p2 =   2.55115281 -> excess demand ->    61.80691099\n",
      "500: p1 =   6.33506222 -> excess demand ->   145.66477716 p2 =   2.55886586 -> excess demand ->    54.35441059\n",
      "525: p1 =   6.35324786 -> excess demand ->   128.20552356 p2 =   2.56565168 -> excess demand ->    47.83814661\n",
      "550: p1 =   6.36925947 -> excess demand ->   112.91601469 p2 =   2.57162612 -> excess demand ->    42.13200407\n",
      "575: p1 =   6.38336596 -> excess demand ->    99.50928598 p2 =   2.57688956 -> excess demand ->    37.12876764\n",
      "600: p1 =   6.39580094 -> excess demand ->    87.74020338 p2 =   2.58152924 -> excess demand ->    32.73686646\n",
      "625: p1 =   6.40676783 -> excess demand ->    77.39851106 p2 =   2.58562108 -> excess demand ->    28.87777051\n",
      "650: p1 =   6.41644411 -> excess demand ->    68.30321767 p2 =   2.58923132 -> excess demand ->    25.48388912\n",
      "675: p1 =   6.42498488 -> excess demand ->    60.29802549 p2 =   2.59241785 -> excess demand ->    22.49686034\n",
      "700: p1 =   6.43252588 -> excess demand ->    53.24757962 p2 =   2.59523134 -> excess demand ->    19.86614766\n",
      "725: p1 =   6.43918608 -> excess demand ->    47.03436835 p2 =   2.59771618 -> excess demand ->    17.54788068\n",
      "750: p1 =   6.44506987 -> excess demand ->    41.55614478 p2 =   2.59991133 -> excess demand ->    15.50389093\n",
      "775: p1 =   6.45026893 -> excess demand ->    36.72376936 p2 =   2.60185101 -> excess demand ->    13.70090532\n",
      "800: p1 =   6.45486387 -> excess demand ->    32.45939446 p2 =   2.60356528 -> excess demand ->    12.10986759\n",
      "825: p1 =   6.45892559 -> excess demand ->    28.69492934 p2 =   2.60508061 -> excess demand ->    10.70536464\n",
      "850: p1 =   6.46251652 -> excess demand ->    25.37073606 p2 =   2.60642029 -> excess demand ->     9.46513932\n",
      "875: p1 =   6.46569167 -> excess demand ->    22.43451708 p2 =   2.60760485 -> excess demand ->     8.36967481\n",
      "900: p1 =   6.46849952 -> excess demand ->    19.84036280 p2 =   2.60865238 -> excess demand ->     7.40183888\n",
      "925: p1 =   6.47098281 -> excess demand ->    17.54793309 p2 =   2.60957882 -> excess demand ->     6.54657822\n",
      "950: p1 =   6.47317928 -> excess demand ->    15.52175195 p2 =   2.61039825 -> excess demand ->     5.79065504\n",
      "975: p1 =   6.47512222 -> excess demand ->    13.73059782 p2 =   2.61112309 -> excess demand ->     5.12241938\n",
      "1000: p1 =   6.47684100 -> excess demand ->    12.14697534 p2 =   2.61176431 -> excess demand ->     4.53161194\n",
      "1025: p1 =   6.47836160 -> excess demand ->    10.74665649 p2 =   2.61233160 -> excess demand ->     4.00919277\n",
      "1050: p1 =   6.47970694 -> excess demand ->     9.50828140 p2 =   2.61283349 -> excess demand ->     3.54719219\n",
      "1075: p1 =   6.48089728 -> excess demand ->     8.41301014 p2 =   2.61327757 -> excess demand ->     3.13858092\n",
      "1100: p1 =   6.48195053 -> excess demand ->     7.44421877 p2 =   2.61367049 -> excess demand ->     2.77715653\n",
      "1125: p1 =   6.48288251 -> excess demand ->     6.58723343 p2 =   2.61401818 -> excess demand ->     2.45744428\n",
      "1150: p1 =   6.48370721 -> excess demand ->     5.82909747 p2 =   2.61432584 -> excess demand ->     2.17461013\n",
      "1175: p1 =   6.48443701 -> excess demand ->     5.15836733 p2 =   2.61459810 -> excess demand ->     1.92438463\n",
      "1200: p1 =   6.48508284 -> excess demand ->     4.56493326 p2 =   2.61483904 -> excess demand ->     1.70299599\n",
      "1225: p1 =   6.48565438 -> excess demand ->     4.03986196 p2 =   2.61505226 -> excess demand ->     1.50711138\n",
      "1250: p1 =   6.48616019 -> excess demand ->     3.57525812 p2 =   2.61524095 -> excess demand ->     1.33378520\n",
      "1275: p1 =   6.48660783 -> excess demand ->     3.16414260 p2 =   2.61540795 -> excess demand ->     1.18041372\n",
      "1300: p1 =   6.48700400 -> excess demand ->     2.80034519 p2 =   2.61555574 -> excess demand ->     1.04469500\n",
      "1325: p1 =   6.48735462 -> excess demand ->     2.47841012 p2 =   2.61568655 -> excess demand ->     0.92459362\n",
      "1350: p1 =   6.48766493 -> excess demand ->     2.19351275 p2 =   2.61580231 -> excess demand ->     0.81830966\n",
      "1375: p1 =   6.48793958 -> excess demand ->     1.94138610 p2 =   2.61590477 -> excess demand ->     0.72425125\n",
      "1400: p1 =   6.48818266 -> excess demand ->     1.71825606 p2 =   2.61599545 -> excess demand ->     0.64101038\n",
      "1425: p1 =   6.48839780 -> excess demand ->     1.52078417 p2 =   2.61607571 -> excess demand ->     0.56734159\n",
      "1450: p1 =   6.48858822 -> excess demand ->     1.34601712 p2 =   2.61614675 -> excess demand ->     0.50214310\n",
      "1475: p1 =   6.48875675 -> excess demand ->     1.19134215 p2 =   2.61620963 -> excess demand ->     0.44444018\n",
      "1500: p1 =   6.48890592 -> excess demand ->     1.05444763 p2 =   2.61626527 -> excess demand ->     0.39337044\n",
      "1525: p1 =   6.48903795 -> excess demand ->     0.93328828 p2 =   2.61631453 -> excess demand ->     0.34817087\n",
      "1550: p1 =   6.48915481 -> excess demand ->     0.82605438 p2 =   2.61635812 -> excess demand ->     0.30816633\n",
      "1575: p1 =   6.48925824 -> excess demand ->     0.73114456 p2 =   2.61639671 -> excess demand ->     0.27275941\n",
      "1600: p1 =   6.48934979 -> excess demand ->     0.64714181 p2 =   2.61643086 -> excess demand ->     0.24142146\n",
      "1625: p1 =   6.48943082 -> excess demand ->     0.57279216 p2 =   2.61646109 -> excess demand ->     0.21368470\n",
      "1650: p1 =   6.48950254 -> excess demand ->     0.50698594 p2 =   2.61648785 -> excess demand ->     0.18913515\n",
      "1675: p1 =   6.48956602 -> excess demand ->     0.44874112 p2 =   2.61651153 -> excess demand ->     0.16740643\n",
      "1700: p1 =   6.48962221 -> excess demand ->     0.39718861 p2 =   2.61653249 -> excess demand ->     0.14817435\n",
      "1725: p1 =   6.48967194 -> excess demand ->     0.35155929 p2 =   2.61655104 -> excess demand ->     0.13115196\n",
      "1750: p1 =   6.48971596 -> excess demand ->     0.31117244 p2 =   2.61656747 -> excess demand ->     0.11608532\n",
      "1775: p1 =   6.48975493 -> excess demand ->     0.27542563 p2 =   2.61658200 -> excess demand ->     0.10274969\n",
      "1800: p1 =   6.48978941 -> excess demand ->     0.24378567 p2 =   2.61659487 -> excess demand ->     0.09094615\n",
      "1825: p1 =   6.48981994 -> excess demand ->     0.21578066 p2 =   2.61660625 -> excess demand ->     0.08049866\n",
      "1850: p1 =   6.48984696 -> excess demand ->     0.19099295 p2 =   2.61661633 -> excess demand ->     0.07125141\n",
      "1875: p1 =   6.48987087 -> excess demand ->     0.16905288 p2 =   2.61662526 -> excess demand ->     0.06306649\n",
      "1900: p1 =   6.48989204 -> excess demand ->     0.14963327 p2 =   2.61663315 -> excess demand ->     0.05582185\n",
      "1925: p1 =   6.48991077 -> excess demand ->     0.13244455 p2 =   2.61664014 -> excess demand ->     0.04940947\n",
      "1950: p1 =   6.48992736 -> excess demand ->     0.11723042 p2 =   2.61664633 -> excess demand ->     0.04373371\n",
      "1975: p1 =   6.48994204 -> excess demand ->     0.10376402 p2 =   2.61665180 -> excess demand ->     0.03870997\n",
      "2000: p1 =   6.48995503 -> excess demand ->     0.09184457 p2 =   2.61665665 -> excess demand ->     0.03426332\n",
      "2025: p1 =   6.48996653 -> excess demand ->     0.08129435 p2 =   2.61666094 -> excess demand ->     0.03032748\n",
      "2050: p1 =   6.48997671 -> excess demand ->     0.07195607 p2 =   2.61666474 -> excess demand ->     0.02684377\n",
      "2075: p1 =   6.48998572 -> excess demand ->     0.06369050 p2 =   2.61666810 -> excess demand ->     0.02376023\n",
      "2100: p1 =   6.48999369 -> excess demand ->     0.05637441 p2 =   2.61667108 -> excess demand ->     0.02103091\n",
      "2125: p1 =   6.49000075 -> excess demand ->     0.04989873 p2 =   2.61667371 -> excess demand ->     0.01861511\n",
      "2150: p1 =   6.49000700 -> excess demand ->     0.04416692 p2 =   2.61667604 -> excess demand ->     0.01647681\n",
      "2175: p1 =   6.49001253 -> excess demand ->     0.03909352 p2 =   2.61667810 -> excess demand ->     0.01458414\n",
      "2200: p1 =   6.49001743 -> excess demand ->     0.03460290 p2 =   2.61667993 -> excess demand ->     0.01290888\n",
      "2225: p1 =   6.49002176 -> excess demand ->     0.03062812 p2 =   2.61668155 -> excess demand ->     0.01142606\n",
      "2250: p1 =   6.49002559 -> excess demand ->     0.02710992 p2 =   2.61668298 -> excess demand ->     0.01011357\n",
      "2275: p1 =   6.49002899 -> excess demand ->     0.02399586 p2 =   2.61668424 -> excess demand ->     0.00895184\n",
      "2300: p1 =   6.49003199 -> excess demand ->     0.02123950 p2 =   2.61668536 -> excess demand ->     0.00792356\n",
      "2325: p1 =   6.49003465 -> excess demand ->     0.01879976 p2 =   2.61668636 -> excess demand ->     0.00701340\n",
      "2350: p1 =   6.49003701 -> excess demand ->     0.01664027 p2 =   2.61668723 -> excess demand ->     0.00620778\n",
      "2375: p1 =   6.49003909 -> excess demand ->     0.01472884 p2 =   2.61668801 -> excess demand ->     0.00549471\n",
      "2400: p1 =   6.49004093 -> excess demand ->     0.01303697 p2 =   2.61668870 -> excess demand ->     0.00486354\n",
      "2425: p1 =   6.49004257 -> excess demand ->     0.01153945 p2 =   2.61668931 -> excess demand ->     0.00430488\n",
      "2450: p1 =   6.49004401 -> excess demand ->     0.01021394 p2 =   2.61668985 -> excess demand ->     0.00381039\n",
      "2475: p1 =   6.49004529 -> excess demand ->     0.00904069 p2 =   2.61669032 -> excess demand ->     0.00337270\n",
      "2500: p1 =   6.49004642 -> excess demand ->     0.00800221 p2 =   2.61669075 -> excess demand ->     0.00298528\n",
      "2525: p1 =   6.49004742 -> excess demand ->     0.00708301 p2 =   2.61669112 -> excess demand ->     0.00264237\n",
      "2550: p1 =   6.49004831 -> excess demand ->     0.00626941 p2 =   2.61669145 -> excess demand ->     0.00233885\n",
      "2575: p1 =   6.49004910 -> excess demand ->     0.00554926 p2 =   2.61669174 -> excess demand ->     0.00207019\n",
      "2600: p1 =   6.49004979 -> excess demand ->     0.00491183 p2 =   2.61669200 -> excess demand ->     0.00183239\n",
      "2625: p1 =   6.49005041 -> excess demand ->     0.00434762 p2 =   2.61669223 -> excess demand ->     0.00162191\n",
      "2650: p1 =   6.49005095 -> excess demand ->     0.00384822 p2 =   2.61669244 -> excess demand ->     0.00143561\n",
      "2675: p1 =   6.49005143 -> excess demand ->     0.00340618 p2 =   2.61669262 -> excess demand ->     0.00127070\n",
      "2700: p1 =   6.49005186 -> excess demand ->     0.00301492 p2 =   2.61669277 -> excess demand ->     0.00112474\n",
      "2725: p1 =   6.49005224 -> excess demand ->     0.00266861 p2 =   2.61669292 -> excess demand ->     0.00099554\n",
      "2750: p1 =   6.49005257 -> excess demand ->     0.00236207 p2 =   2.61669304 -> excess demand ->     0.00088119\n",
      "2775: p1 =   6.49005287 -> excess demand ->     0.00209075 p2 =   2.61669315 -> excess demand ->     0.00077997\n",
      "2800: p1 =   6.49005313 -> excess demand ->     0.00185059 p2 =   2.61669325 -> excess demand ->     0.00069038\n",
      "2825: p1 =   6.49005336 -> excess demand ->     0.00163802 p2 =   2.61669333 -> excess demand ->     0.00061107\n",
      "2850: p1 =   6.49005357 -> excess demand ->     0.00144986 p2 =   2.61669341 -> excess demand ->     0.00054088\n",
      "2875: p1 =   6.49005375 -> excess demand ->     0.00128332 p2 =   2.61669348 -> excess demand ->     0.00047875\n",
      "2900: p1 =   6.49005391 -> excess demand ->     0.00113591 p2 =   2.61669354 -> excess demand ->     0.00042376\n",
      "2925: p1 =   6.49005405 -> excess demand ->     0.00100543 p2 =   2.61669359 -> excess demand ->     0.00037508\n",
      "2950: p1 =   6.49005418 -> excess demand ->     0.00088994 p2 =   2.61669364 -> excess demand ->     0.00033200\n",
      "2975: p1 =   6.49005429 -> excess demand ->     0.00078771 p2 =   2.61669368 -> excess demand ->     0.00029386\n",
      "3000: p1 =   6.49005438 -> excess demand ->     0.00069723 p2 =   2.61669372 -> excess demand ->     0.00026011\n"
     ]
    }
   ],
   "source": [
    "p1 = 3\n",
    "p2 = 3\n",
    "kappa = 0.8\n",
    "eps = 1e-8\n",
    "p1, p2 = find_equilibrium(p1,p2,e1,e2,e3,betas,kappa=kappa,eps=eps)"
   ]
  },
  {
   "cell_type": "markdown",
   "metadata": {},
   "source": [
    "The Walras-equilibrium prices, $(p_1,p_2)$, where both excess demands are (approximately) zero have been found to be: "
   ]
  },
  {
   "cell_type": "code",
   "execution_count": 571,
   "metadata": {},
   "outputs": [
    {
     "data": {
      "text/plain": [
       "'(p_1,p_2) = (6.490,2.617)'"
      ]
     },
     "execution_count": 571,
     "metadata": {},
     "output_type": "execute_result"
    }
   ],
   "source": [
    "f'(p_1,p_2) = ({p1:.3f},{p2:.3f})'"
   ]
  },
  {
   "cell_type": "markdown",
   "metadata": {},
   "source": [
    "At last we will ensure that the excess demand is almost zero."
   ]
  },
  {
   "cell_type": "code",
   "execution_count": 572,
   "metadata": {},
   "outputs": [
    {
     "data": {
      "text/plain": [
       "'Z1: 0.00, Z2: 0.00, Z3: -0.01'"
      ]
     },
     "execution_count": 572,
     "metadata": {},
     "output_type": "execute_result"
    }
   ],
   "source": [
    "Z1 = excess_demand_good_1_func(p1,p2,e1,e2,e3,betas)\n",
    "Z2 = excess_demand_good_2_func(p1,p2,e1,e2,e3,betas)\n",
    "Z3 = excess_demand_good_3_func(p1,p2,e1,e2,e3,betas)\n",
    "f'Z1: {Z1:.2f}, Z2: {Z2:.2f}, Z3: {Z3:.2f}'"
   ]
  },
  {
   "cell_type": "markdown",
   "metadata": {},
   "source": [
    "# Question 4\n",
    "We define the utility function as presented in the text. "
   ]
  },
  {
   "cell_type": "code",
   "execution_count": 573,
   "metadata": {},
   "outputs": [],
   "source": [
    "# The function takes the two prices, p1, p2 and the endowments, e1, e2, e3, betas and gamma.\n",
    "# The income with the new prices\n",
    "# The demand for each good given the new prices\n",
    "# return the utility\n",
    "\n",
    "def utility_func(p1, p2, e1, e2, e3, betas, gamma):\n",
    "    \n",
    "    I = p1 * e1 + p2 * e2 + e3\n",
    "    x1 = beta1*I/p1\n",
    "    x2 = beta2*I/p2\n",
    "    x3 = beta3*I\n",
    "    \n",
    "    \n",
    "    return (x1 ** beta1 * x2 ** beta2 * x3 ** beta3)**gamma"
   ]
  },
  {
   "cell_type": "markdown",
   "metadata": {},
   "source": [
    "Next we calculate the mean and variance for the utility of the agents"
   ]
  },
  {
   "cell_type": "code",
   "execution_count": 574,
   "metadata": {},
   "outputs": [
    {
     "data": {
      "text/plain": [
       "'The distribution has the mean of 1.010 and the variance of 0.317'"
      ]
     },
     "execution_count": 574,
     "metadata": {},
     "output_type": "execute_result"
    }
   ],
   "source": [
    "utility_vec = utility_func(p1, p2, e1, e2, e3, betas, gamma)\n",
    "\n",
    "# Calculate mean\n",
    "utility_mean = np.mean(utility_vec)\n",
    "\n",
    "# Calculate variance\n",
    "utility_var = np.var(utility_vec)\n",
    "\n",
    "f'The distribution has the mean of {utility_mean:.3f} and the variance of {utility_var:.3f}'\n"
   ]
  },
  {
   "cell_type": "markdown",
   "metadata": {},
   "source": [
    "Now we will plot the distribution of utility in a histogram"
   ]
  },
  {
   "cell_type": "code",
   "execution_count": 575,
   "metadata": {},
   "outputs": [
    {
     "data": {
      "image/png": "[encoded data removed]",
      "text/plain": [
       "<Figure size 720x480 with 1 Axes>"
      ]
     },
     "metadata": {
      "needs_background": "light"
     },
     "output_type": "display_data"
    }
   ],
   "source": [
    "# Plotting the figure\n",
    "fig = plt.figure(dpi=120)\n",
    "\n",
    "ax = fig.add_subplot(1,1,1)\n",
    "ax.hist(utility_vec,bins=500,density=True, alpha = 0.4, label='beta1')\n",
    "ax.set_title('Distribution of utilities')\n",
    "ax.set_xlabel('Utility')\n",
    "ax.set_ylabel('Number of agents')\n",
    "ax.set_xlim([0,6])\n",
    "ax.text(3, 0.5, f'$\\mu_u$: {utility_mean:.3f},  $\\sigma^2_u$: {utility_var:.3f}');"
   ]
  },
  {
   "cell_type": "markdown",
   "metadata": {},
   "source": [
    "# Question 5\n",
    "We start this question by creating a new empty array for each good and then filling it up with the mean value of each endowment."
   ]
  },
  {
   "cell_type": "code",
   "execution_count": 576,
   "metadata": {},
   "outputs": [],
   "source": [
    "# Create empty array and fill up with mean value of endowment\n",
    "e1_equal = np.zeros(N)+np.mean(e1)\n",
    "e2_equal = np.zeros(N)+np.mean(e2)\n",
    "e3_equal = np.zeros(N)+np.mean(e3)"
   ]
  },
  {
   "cell_type": "markdown",
   "metadata": {},
   "source": [
    "Then we can run our find_equilibrium function one more time with the endowment arrays."
   ]
  },
  {
   "cell_type": "code",
   "execution_count": 577,
   "metadata": {},
   "outputs": [
    {
     "name": "stdout",
     "output_type": "stream",
     "text": [
      "  0: p1 =   3.13240299 -> excess demand -> 24825.55975897 p2 =   2.89504860 -> excess demand -> -19678.38813939\n",
      "  1: p1 =   3.24947755 -> excess demand -> 21951.48082735 p2 =   2.79656676 -> excess demand -> -18465.34392437\n",
      "  2: p1 =   3.35374115 -> excess demand -> 19549.42451647 p2 =   2.70442119 -> excess demand -> -17277.29411287\n",
      "  3: p1 =   3.44712313 -> excess demand -> 17509.12132286 p2 =   2.61848798 -> excess demand -> -16112.47732727\n",
      "  4: p1 =   3.53114976 -> excess demand -> 15754.99444829 p2 =   2.53864120 -> excess demand -> -14971.27125771\n",
      "   ...\n",
      " 25: p1 =   4.32881196 -> excess demand ->  3665.82708308 p2 =   1.89065163 -> excess demand ->  -734.78080912\n",
      " 50: p1 =   4.69682912 -> excess demand ->  2297.33952155 p2 =   1.95095356 -> excess demand ->   779.53750330\n",
      " 75: p1 =   4.96780468 -> excess demand ->  1823.05317155 p2 =   2.04941887 -> excess demand ->   679.57023695\n",
      "100: p1 =   5.18691322 -> excess demand ->  1492.91876997 p2 =   2.13136828 -> excess demand ->   559.02987191\n",
      "125: p1 =   5.36783268 -> excess demand ->  1241.52683984 p2 =   2.19911271 -> excess demand ->   464.82072065\n",
      "150: p1 =   5.51917205 -> excess demand ->  1043.98617748 p2 =   2.25576291 -> excess demand ->   390.72314748\n",
      "175: p1 =   5.64700501 -> excess demand ->   885.40419047 p2 =   2.30359834 -> excess demand ->   331.27379011\n",
      "200: p1 =   5.75580516 -> excess demand ->   755.99602954 p2 =   2.34430079 -> excess demand ->   282.78830357\n",
      "225: p1 =   5.84896863 -> excess demand ->   649.02053716 p2 =   2.37914604 -> excess demand ->   242.72594953\n",
      "250: p1 =   5.92913560 -> excess demand ->   559.66413687 p2 =   2.40912503 -> excess demand ->   209.27434732\n",
      "275: p1 =   5.99839840 -> excess demand ->   484.38799846 p2 =   2.43502256 -> excess demand ->   181.10243703\n",
      "300: p1 =   6.05844153 -> excess demand ->   420.52655557 p2 =   2.45747012 -> excess demand ->   157.20849654\n",
      "325: p1 =   6.11063911 -> excess demand ->   366.03047617 p2 =   2.47698256 -> excess demand ->   136.82295853\n",
      "350: p1 =   6.15612449 -> excess demand ->   319.29644750 p2 =   2.49398437 -> excess demand ->   119.34412945\n",
      "375: p1 =   6.19584114 -> excess demand ->   279.05113221 p2 =   2.50882883 -> excess demand ->   104.29441254\n",
      "400: p1 =   6.23058082 -> excess demand ->   244.27003433 p2 =   2.52181226 -> excess demand ->    91.28972878\n",
      "425: p1 =   6.26101242 -> excess demand ->   214.11950259 p2 =   2.53318500 -> excess demand ->    80.01767626\n",
      "450: p1 =   6.28770439 -> excess demand ->   187.91445113 p2 =   2.54315972 -> excess demand ->    70.22161994\n",
      "475: p1 =   6.31114228 -> excess demand ->   165.08699297 p2 =   2.55191803 -> excess demand ->    61.68889594\n",
      "500: p1 =   6.33174261 -> excess demand ->   145.16279991 p2 =   2.55961573 -> excess demand ->    54.24192648\n",
      "525: p1 =   6.34986409 -> excess demand ->   127.74302968 p2 =   2.56638695 -> excess demand ->    47.73143108\n",
      "550: p1 =   6.36581661 -> excess demand ->   112.49032901 p2 =   2.57234756 -> excess demand ->    42.03117126\n",
      "575: p1 =   6.37986874 -> excess demand ->    99.11786447 p2 =   2.57759797 -> excess demand ->    37.03383396\n",
      "600: p1 =   6.39225377 -> excess demand ->    87.38063248 p2 =   2.58222540 -> excess demand ->    32.64777158\n",
      "625: p1 =   6.40317479 -> excess demand ->    77.06850625 p2 =   2.58630575 -> excess demand ->    28.79439463\n",
      "650: p1 =   6.41280900 -> excess demand ->    68.00062145 p2 =   2.58990526 -> excess demand ->    25.40606713\n",
      "675: p1 =   6.42131120 -> excess demand ->    60.02080470 p2 =   2.59308179 -> excess demand ->    22.42439343\n",
      "700: p1 =   6.42881688 -> excess demand ->    52.99382226 p2 =   2.59588598 -> excess demand ->    19.79881281\n",
      "725: p1 =   6.43544477 -> excess demand ->    46.80227995 p2 =   2.59836219 -> excess demand ->    17.48543844\n",
      "750: p1 =   6.44129902 -> excess demand ->    41.34404447 p2 =   2.60054934 -> excess demand ->    15.44609178\n",
      "775: p1 =   6.44647110 -> excess demand ->    36.53008556 p2 =   2.60248161 -> excess demand ->    13.64749474\n",
      "800: p1 =   6.45104140 -> excess demand ->    32.28266044 p2 =   2.60418905 -> excess demand ->    12.06059022\n",
      "825: p1 =   6.45508065 -> excess demand ->    28.53377851 p2 =   2.60569808 -> excess demand ->    10.65996752\n",
      "850: p1 =   6.45865110 -> excess demand ->    25.22389729 p2 =   2.60703197 -> excess demand ->     9.42337443\n",
      "875: p1 =   6.46180759 -> excess demand ->    22.30080988 p2 =   2.60821120 -> excess demand ->     8.33130112\n",
      "900: p1 =   6.46459846 -> excess demand ->    19.71869251 p2 =   2.60925383 -> excess demand ->     7.36662376\n",
      "925: p1 =   6.46706631 -> excess demand ->    17.43728612 p2 =   2.61017578 -> excess demand ->     6.51429858\n",
      "950: p1 =   6.46924874 -> excess demand ->    15.42119109 p2 =   2.61099110 -> excess demand ->     5.76109802\n",
      "975: p1 =   6.47117891 -> excess demand ->    13.63925765 p2 =   2.61171218 -> excess demand ->     5.09538288\n",
      "1000: p1 =   6.47288611 -> excess demand ->    12.06405771 p2 =   2.61234996 -> excess demand ->     4.50690482\n",
      "1025: p1 =   6.47439620 -> excess demand ->    10.67142625 p2 =   2.61291410 -> excess demand ->     3.98663493\n",
      "1050: p1 =   6.47573200 -> excess demand ->     9.44006218 p2 =   2.61341312 -> excess demand ->     3.52661449\n",
      "1075: p1 =   6.47691369 -> excess demand ->     8.35118038 p2 =   2.61385458 -> excess demand ->     3.11982498\n",
      "1100: p1 =   6.47795911 -> excess demand ->     7.38820788 p2 =   2.61424512 -> excess demand ->     2.76007444\n",
      "1125: p1 =   6.47888399 -> excess demand ->     6.53651815 p2 =   2.61459064 -> excess demand ->     2.44189824\n",
      "1150: p1 =   6.47970227 -> excess demand ->     5.78319844 p2 =   2.61489633 -> excess demand ->     2.16047206\n",
      "1175: p1 =   6.48042626 -> excess demand ->     5.11684578 p2 =   2.61516680 -> excess demand ->     1.91153572\n",
      "1200: p1 =   6.48106683 -> excess demand ->     4.52738798 p2 =   2.61540610 -> excess demand ->     1.69132625\n",
      "1225: p1 =   6.48163362 -> excess demand ->     4.00592640 p2 =   2.61561784 -> excess demand ->     1.49651914\n",
      "1250: p1 =   6.48213513 -> excess demand ->     3.54459764 p2 =   2.61580519 -> excess demand ->     1.32417666\n",
      "1275: p1 =   6.48257889 -> excess demand ->     3.13645198 p2 =   2.61597097 -> excess demand ->     1.17170246\n",
      "1300: p1 =   6.48297156 -> excess demand ->     2.77534624 p2 =   2.61611766 -> excess demand ->     1.03680150\n",
      "1325: p1 =   6.48331902 -> excess demand ->     2.45584946 p2 =   2.61624746 -> excess demand ->     0.91744484\n",
      "1350: p1 =   6.48362648 -> excess demand ->     2.17315978 p2 =   2.61636233 -> excess demand ->     0.81183857\n",
      "1375: p1 =   6.48389856 -> excess demand ->     1.92303109 p2 =   2.61646396 -> excess demand ->     0.71839640\n",
      "1400: p1 =   6.48413931 -> excess demand ->     1.70170837 p2 =   2.61655391 -> excess demand ->     0.63571554\n",
      "1425: p1 =   6.48435236 -> excess demand ->     1.50587065 p2 =   2.61663350 -> excess demand ->     0.56255530\n",
      "1450: p1 =   6.48454090 -> excess demand ->     1.33258058 p2 =   2.61670393 -> excess demand ->     0.49781836\n",
      "1475: p1 =   6.48470774 -> excess demand ->     1.17923997 p2 =   2.61676625 -> excess demand ->     0.44053408\n",
      "1500: p1 =   6.48485538 -> excess demand ->     1.04355049 p2 =   2.61682141 -> excess demand ->     0.38984385\n",
      "1525: p1 =   6.48498603 -> excess demand ->     0.92347897 p2 =   2.61687022 -> excess demand ->     0.34498813\n",
      "1550: p1 =   6.48510165 -> excess demand ->     0.81722673 p2 =   2.61691341 -> excess demand ->     0.30529496\n",
      "1575: p1 =   6.48520396 -> excess demand ->     0.72320246 p2 =   2.61695163 -> excess demand ->     0.27016986\n",
      "1600: p1 =   6.48529451 -> excess demand ->     0.63999827 p2 =   2.61698546 -> excess demand ->     0.23908688\n",
      "1625: p1 =   6.48537464 -> excess demand ->     0.56636850 p2 =   2.61701539 -> excess demand ->     0.21158067\n",
      "1650: p1 =   6.48544555 -> excess demand ->     0.50121103 p2 =   2.61704188 -> excess demand ->     0.18723950\n",
      "1675: p1 =   6.48550830 -> excess demand ->     0.44355067 p2 =   2.61706532 -> excess demand ->     0.16569906\n",
      "1700: p1 =   6.48556383 -> excess demand ->     0.39252455 p2 =   2.61708607 -> excess demand ->     0.14663701\n",
      "1725: p1 =   6.48561298 -> excess demand ->     0.34736916 p2 =   2.61710443 -> excess demand ->     0.12976811\n",
      "1750: p1 =   6.48565647 -> excess demand ->     0.30740891 p2 =   2.61712068 -> excess demand ->     0.11483999\n",
      "1775: p1 =   6.48569496 -> excess demand ->     0.27204598 p2 =   2.61713506 -> excess demand ->     0.10162931\n",
      "1800: p1 =   6.48572902 -> excess demand ->     0.24075136 p2 =   2.61714778 -> excess demand ->     0.08993845\n",
      "1825: p1 =   6.48575916 -> excess demand ->     0.21305696 p2 =   2.61715904 -> excess demand ->     0.07959254\n",
      "1850: p1 =   6.48578584 -> excess demand ->     0.18854854 p2 =   2.61716900 -> excess demand ->     0.07043683\n",
      "1875: p1 =   6.48580944 -> excess demand ->     0.16685953 p2 =   2.61717782 -> excess demand ->     0.06233438\n",
      "1900: p1 =   6.48583033 -> excess demand ->     0.14766556 p2 =   2.61718563 -> excess demand ->     0.05516401\n",
      "1925: p1 =   6.48584882 -> excess demand ->     0.13067959 p2 =   2.61719253 -> excess demand ->     0.04881849\n",
      "1950: p1 =   6.48586518 -> excess demand ->     0.11564759 p2 =   2.61719865 -> excess demand ->     0.04320292\n",
      "1975: p1 =   6.48587966 -> excess demand ->     0.10234477 p2 =   2.61720406 -> excess demand ->     0.03823334\n",
      "2000: p1 =   6.48589248 -> excess demand ->     0.09057220 p2 =   2.61720884 -> excess demand ->     0.03383541\n",
      "2025: p1 =   6.48590382 -> excess demand ->     0.08015385 p2 =   2.61721308 -> excess demand ->     0.02994339\n",
      "2050: p1 =   6.48591385 -> excess demand ->     0.07093394 p2 =   2.61721683 -> excess demand ->     0.02649907\n",
      "2075: p1 =   6.48592273 -> excess demand ->     0.06277459 p2 =   2.61722015 -> excess demand ->     0.02345095\n",
      "2100: p1 =   6.48593059 -> excess demand ->     0.05555381 p2 =   2.61722308 -> excess demand ->     0.02075345\n",
      "2125: p1 =   6.48593755 -> excess demand ->     0.04916363 p2 =   2.61722568 -> excess demand ->     0.01836625\n",
      "2150: p1 =   6.48594370 -> excess demand ->     0.04350850 p2 =   2.61722798 -> excess demand ->     0.01625364\n",
      "2175: p1 =   6.48594915 -> excess demand ->     0.03850387 p2 =   2.61723001 -> excess demand ->     0.01438404\n",
      "2200: p1 =   6.48595397 -> excess demand ->     0.03407491 p2 =   2.61723182 -> excess demand ->     0.01272950\n",
      "2225: p1 =   6.48595824 -> excess demand ->     0.03015540 p2 =   2.61723341 -> excess demand ->     0.01126527\n",
      "2250: p1 =   6.48596201 -> excess demand ->     0.02668675 p2 =   2.61723482 -> excess demand ->     0.00996947\n",
      "2275: p1 =   6.48596535 -> excess demand ->     0.02361708 p2 =   2.61723607 -> excess demand ->     0.00882272\n",
      "2300: p1 =   6.48596831 -> excess demand ->     0.02090051 p2 =   2.61723717 -> excess demand ->     0.00780788\n",
      "2325: p1 =   6.48597093 -> excess demand ->     0.01849641 p2 =   2.61723815 -> excess demand ->     0.00690978\n",
      "2350: p1 =   6.48597324 -> excess demand ->     0.01636885 p2 =   2.61723902 -> excess demand ->     0.00611497\n",
      "2375: p1 =   6.48597529 -> excess demand ->     0.01448601 p2 =   2.61723978 -> excess demand ->     0.00541160\n",
      "2400: p1 =   6.48597711 -> excess demand ->     0.01281975 p2 =   2.61724046 -> excess demand ->     0.00478912\n",
      "2425: p1 =   6.48597871 -> excess demand ->     0.01134515 p2 =   2.61724106 -> excess demand ->     0.00423825\n",
      "2450: p1 =   6.48598013 -> excess demand ->     0.01004017 p2 =   2.61724159 -> excess demand ->     0.00375075\n",
      "2475: p1 =   6.48598139 -> excess demand ->     0.00888530 p2 =   2.61724206 -> excess demand ->     0.00331932\n",
      "2500: p1 =   6.48598250 -> excess demand ->     0.00786327 p2 =   2.61724247 -> excess demand ->     0.00293751\n",
      "2525: p1 =   6.48598349 -> excess demand ->     0.00695879 p2 =   2.61724284 -> excess demand ->     0.00259962\n",
      "2550: p1 =   6.48598436 -> excess demand ->     0.00615835 p2 =   2.61724317 -> excess demand ->     0.00230060\n",
      "2575: p1 =   6.48598513 -> excess demand ->     0.00544999 p2 =   2.61724346 -> excess demand ->     0.00203597\n",
      "2600: p1 =   6.48598581 -> excess demand ->     0.00482310 p2 =   2.61724371 -> excess demand ->     0.00180179\n",
      "2625: p1 =   6.48598641 -> excess demand ->     0.00426832 p2 =   2.61724394 -> excess demand ->     0.00159453\n",
      "2650: p1 =   6.48598695 -> excess demand ->     0.00377736 p2 =   2.61724414 -> excess demand ->     0.00141112\n",
      "2675: p1 =   6.48598742 -> excess demand ->     0.00334287 p2 =   2.61724431 -> excess demand ->     0.00124881\n",
      "2700: p1 =   6.48598784 -> excess demand ->     0.00295835 p2 =   2.61724447 -> excess demand ->     0.00110516\n",
      "2725: p1 =   6.48598821 -> excess demand ->     0.00261807 p2 =   2.61724461 -> excess demand ->     0.00097804\n",
      "2750: p1 =   6.48598854 -> excess demand ->     0.00231693 p2 =   2.61724473 -> excess demand ->     0.00086554\n",
      "2775: p1 =   6.48598883 -> excess demand ->     0.00205042 p2 =   2.61724484 -> excess demand ->     0.00076598\n",
      "2800: p1 =   6.48598909 -> excess demand ->     0.00181457 p2 =   2.61724493 -> excess demand ->     0.00067788\n",
      "2825: p1 =   6.48598931 -> excess demand ->     0.00160585 p2 =   2.61724502 -> excess demand ->     0.00059990\n",
      "2850: p1 =   6.48598951 -> excess demand ->     0.00142114 p2 =   2.61724509 -> excess demand ->     0.00053090\n",
      "2875: p1 =   6.48598969 -> excess demand ->     0.00125767 p2 =   2.61724516 -> excess demand ->     0.00046983\n",
      "2900: p1 =   6.48598985 -> excess demand ->     0.00111301 p2 =   2.61724522 -> excess demand ->     0.00041579\n",
      "2925: p1 =   6.48598999 -> excess demand ->     0.00098498 p2 =   2.61724527 -> excess demand ->     0.00036796\n",
      "2950: p1 =   6.48599011 -> excess demand ->     0.00087169 p2 =   2.61724532 -> excess demand ->     0.00032564\n",
      "2975: p1 =   6.48599022 -> excess demand ->     0.00077142 p2 =   2.61724536 -> excess demand ->     0.00028818\n",
      "3000: p1 =   6.48599031 -> excess demand ->     0.00068269 p2 =   2.61724539 -> excess demand ->     0.00025503\n"
     ]
    }
   ],
   "source": [
    "# Guess on prices\n",
    "p1 = 3\n",
    "p2 = 3\n",
    "\n",
    "# Run function\n",
    "p1, p2 = find_equilibrium(p1,p2,e1_equal,e2_equal,e3_equal,betas,kappa=kappa,eps=eps)"
   ]
  },
  {
   "cell_type": "markdown",
   "metadata": {},
   "source": [
    "The Walras-equilibrium prices, $(p_1,p_2)$, where both excess demands are (approximately) zero have been found to be: "
   ]
  },
  {
   "cell_type": "code",
   "execution_count": 580,
   "metadata": {},
   "outputs": [
    {
     "data": {
      "text/plain": [
       "'(p_1,p_2) = (6.486,2.617)'"
      ]
     },
     "execution_count": 580,
     "metadata": {},
     "output_type": "execute_result"
    }
   ],
   "source": [
    "f'(p_1,p_2) = ({p1:.3f},{p2:.3f})'"
   ]
  },
  {
   "cell_type": "markdown",
   "metadata": {},
   "source": [
    "We see that there is a small change in p1, but beside that th equilibrium prices are almost identical."
   ]
  },
  {
   "cell_type": "markdown",
   "metadata": {},
   "source": [
    "At last we will create an interactive figure for changing values of gamma, which will show how the two distributions behave and how their mean and variance are affected."
   ]
  },
  {
   "cell_type": "code",
   "execution_count": 583,
   "metadata": {},
   "outputs": [
    {
     "data": {
      "application/vnd.jupyter.widget-view+json": {
       "model_id": "75ee842466bb4a748ee728f1d0afbe3c",
       "version_major": 2,
       "version_minor": 0
      },
      "text/plain": [
       "interactive(children=(FloatSlider(value=0.8, description='$\\\\gamma$', max=2.0), Output()), _dom_classes=('widg…"
      ]
     },
     "metadata": {},
     "output_type": "display_data"
    }
   ],
   "source": [
    "def utility_fig(gamma):\n",
    "    \n",
    "    # Define old utility vector and calculate mean and variance\n",
    "    utility_vec = utility_func(p1, p2, e1, e2, e3, betas, gamma)\n",
    "    utility_mean = np.mean(utility_vec)\n",
    "    utility_var = np.var(utility_vec)\n",
    "    \n",
    "     # Define new utility vector and calculate mean and variance\n",
    "    utility_vec_equal= utility_func(p1, p2, e1_equal, e1_equal, e1_equal, betas, gamma)\n",
    "    utility_mean_equal = np.mean(utility_vec_equal)\n",
    "    utility_var_equal = np.var(utility_vec_equal)\n",
    "    \n",
    "    # Plot the figures\n",
    "    fig = plt.figure(figsize=(15,10))\n",
    "   \n",
    "    ax1 = fig.add_subplot(2,2,1)\n",
    "    ax1.hist(utility_vec, bins=500, color =\"#6ab2f2\")\n",
    "    ax1.set_title('Distribution of utilities')\n",
    "    ax1.set_xlabel('Utility')\n",
    "    ax1.set_ylabel('Number of agents')\n",
    "    plt.axis([-0.1, 5, 0, 1600])\n",
    "        \n",
    "    ax2 = fig.add_subplot(2,2,2)\n",
    "    ax2.hist(utility_vec_equal, bins=500, color =\"#f7d56f\")\n",
    "    ax2.set_title('Distribution of utilities with equal endowments')\n",
    "    ax2.set_xlabel('Utility')\n",
    "    ax2.set_ylabel('Number of agents')\n",
    "\n",
    "    # Plot text with mean and variance\n",
    "    plt.text(-4, 900, f'$\\mu$: {utility_mean:.3f} $\\sigma^2$: {utility_var:.3f}')\n",
    "    plt.text(2.0, 900, f'$\\mu$: {utility_mean_equal:.3f} $\\sigma^2$: {utility_var_equal:.3f}')\n",
    "    plt.axis([-0.1, 5, 0, 1600])\n",
    "    \n",
    "    plt.show()\n",
    "# Create slider\n",
    "interactive_plot = interactive(utility_fig, \n",
    "                               gamma=widgets.FloatSlider(description=\"$\\gamma$\", \n",
    "                                                       min=0.0,\n",
    "                                                       max=2.0,\n",
    "                                                       step=0.1,\n",
    "                                                       value=0.8,\n",
    "                                                       continuous_update=True) \n",
    "                              )\n",
    "\n",
    "interactive_plot"
   ]
  },
  {
   "cell_type": "markdown",
   "metadata": {},
   "source": [
    "First of all we notice how concentrated around the mean the utitilty is for the second plot, due to the variance being much smaller. We also notice how the utility is never below 1. When we increase the value of gamma, we notice how the variance of the first plot increases by a much higher ratio than the second plot. Having the same equal endowments means the change in utility is only due to small changes in preferences."
   ]
  }
 ],
 "metadata": {
  "kernelspec": {
   "display_name": "Python 3",
   "language": "python",
   "name": "python3"
  },
  "language_info": {
   "codemirror_mode": {
    "name": "ipython",
    "version": 3
   },
   "file_extension": ".py",
   "mimetype": "text/x-python",
   "name": "python",
   "nbconvert_exporter": "python",
   "pygments_lexer": "ipython3",
   "version": "3.7.1"
  },
  "toc-autonumbering": false
 },
 "nbformat": 4,
 "nbformat_minor": 2
}
