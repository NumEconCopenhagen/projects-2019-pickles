{
 "cells": [
  {
   "cell_type": "markdown",
   "metadata": {},
   "source": [
    "# Solwing the Solow model with R&D"
   ]
  },
  {
   "cell_type": "markdown",
   "metadata": {},
   "source": [
    "## Intro"
   ]
  },
  {
   "cell_type": "markdown",
   "metadata": {},
   "source": [
    "In this project we will try to solve the solow model with R&D and furthermore extend the model by including human capital.\n",
    "\n",
    "Our goal will be to dug into the following aspects:\n",
    "\n",
    "* Finding the steady state rates by solveing for several transition equation\n",
    "* Finding numeric values for the steady state rates\n",
    "* Visualizing the transition towards steady state\n",
    "\n",
    "\n",
    "The realistic parameters, which will be used to find a numeric value for the steady state rates can be found in the textbook \"*Introducing Advanced Macroeconomics*\" by Peter Birch Sørensen and Hans Jørgen Whitta-Jacobsen.\n",
    "\n",
    "**No non-default packages should be required to import before running the below cells**"
   ]
  },
  {
   "cell_type": "code",
   "execution_count": 1,
   "metadata": {},
   "outputs": [],
   "source": [
    "import numpy as np\n",
    "import matplotlib.pyplot as plt\n",
    "import ipywidgets as widgets\n",
    "import sympy as sm\n",
    "\n",
    "sm.init_printing(use_unicode=True)"
   ]
  },
  {
   "cell_type": "markdown",
   "metadata": {},
   "source": [
    "We consider the following model for a closed economy, where the following equations are given:\n",
    "\n",
    "1. \\\\[Y_{t}=K_{t}^{\\alpha}\\left(A_{t}L_{Y_{t}}\\right)^{1-\\alpha}, 0<\\alpha<1\\\\]\n",
    "2. \\\\[K_{t+1}-K_{t}=s_{K}Y_{t}-\\delta K_{t},0<\\delta<1,0<s_{k}<1,K_{0}>0  \\text{ provided} \\\\] \n",
    "3. \\\\[A_{t+1}-A_{t}=\\rho A_{t}^{\\phi}L_{A_{t}}^{\\lambda},\\rho>0,\\phi>0,0<\\lambda<1 \\\\]\n",
    "4. \\\\[L_{A_{t}}=s_{R}L_{t},0<s_{R}<1 \\\\]\n",
    "5. \\\\[L_{t}=L_{A_{t}}+L_{Y_{t}} \\\\]\n",
    "6. \\\\[L_{t+1}=\\left(1+n\\right)L_{t},n>0 \\\\]\n",
    "\n",
    "\n",
    "Equation (1) is a Cobb-Douglas production function, which describes the aggregated production, $Y_{t}$, as a function of financial capital, $K_{t}$, production workers, $L_{Y_{t}}$ and the knowledge level, $A_{t}$, which determines the productivity of the workers.\n",
    "\n",
    "Equation (2) describes how financial capital develops over time, where $s_{K}$ is the saving rate.\n",
    "\n",
    "Equation (3) shows the development in the knowledge level, where $A_{t}$ is an expression for the knowledge at the time $t$ and $L_{A_{t}}$ is the amount of researchers. Equation (4) shows that the latter is the product of the population, $L_{t}$, and the share of researchers, $s_{R}$.\n",
    "\n",
    "The following definitions will also be used throughout this project:\n",
    "\n",
    "7. \\\\[ y_{t}=\\frac{Y_{t}}{L_{Y_{t}}};k_{t}=\\frac{K_{t}}{L_{Y_{t}}} \\\\]\n",
    "8. \\\\[\\tilde{y}=\\frac{y_{t}}{A_{t}};\\tilde{k}=\\frac{k_{t}}{A_{t}} \\\\]\n",
    "\n",
    "Where **7.** is the definition for capital-labo ratio and **8.** is the definition for the technology adjusted capital-labor ratio.\n"
   ]
  },
  {
   "cell_type": "markdown",
   "metadata": {},
   "source": [
    "# The growth in technology\n",
    "Our first goal in this model is to find the steady state rate for the exact growth rate of technology.\n",
    "\n",
    "The following transitions equation is given for the growth in technology:"
   ]
  },
  {
   "cell_type": "markdown",
   "metadata": {},
   "source": [
    "9. \\\\[g_{t+1}=\\left(1+n\\right)^{\\lambda}g_{t}\\left(1+g_{t}\\right)^{\\phi-1}\\\\]"
   ]
  },
  {
   "cell_type": "markdown",
   "metadata": {},
   "source": [
    "We then wish to find the steady state for this equation. That is to solve for $g^*$ the following equation:\n",
    "10. \\\\[g^*=\\left(1+n\\right)^{\\lambda}g^*\\left(1+g^*\\right)^{\\phi-1}\\\\]"
   ]
  },
  {
   "cell_type": "code",
   "execution_count": 2,
   "metadata": {},
   "outputs": [],
   "source": [
    "# Define the following symbols\n",
    "g = sm.symbols('g')\n",
    "n = sm.symbols('n')\n",
    "l = sm.symbols('lambda')\n",
    "phi = sm.symbols('phi')"
   ]
  },
  {
   "cell_type": "code",
   "execution_count": 3,
   "metadata": {},
   "outputs": [],
   "source": [
    "# Define the transition equation\n",
    "trans_g = sm.Eq(1,(1+n)**(l)*1*(1+g)**(phi-1))"
   ]
  },
  {
   "cell_type": "code",
   "execution_count": 4,
   "metadata": {},
   "outputs": [
    {
     "data": {
      "image/png": "[encoded data removed]",
      "text/latex": [
       "$$\\left(\\left(n + 1\\right)^{- \\lambda}\\right)^{\\frac{1}{\\phi - 1}} - 1$$"
      ],
      "text/plain": [
       "             1      \n",
       "           ─────    \n",
       "           φ - 1    \n",
       "⎛       -λ⎞         \n",
       "⎝(n + 1)  ⎠      - 1"
      ]
     },
     "execution_count": 4,
     "metadata": {},
     "output_type": "execute_result"
    }
   ],
   "source": [
    "# Solve for g\n",
    "ss_g = sm.solve(trans_g,g)[0]\n",
    "ss_g"
   ]
  },
  {
   "cell_type": "markdown",
   "metadata": {},
   "source": [
    "Next we will estimate the numeric value of the steady state growth rate of technology by using realistic parameters.\n",
    "$n = 0.01$\n",
    "$\\lambda = 1$\n",
    "$\\phi = 0.50$\n"
   ]
  },
  {
   "cell_type": "code",
   "execution_count": 5,
   "metadata": {},
   "outputs": [
    {
     "data": {
      "text/plain": [
       "'The steady state growth rate of technology is 0.02'"
      ]
     },
     "execution_count": 5,
     "metadata": {},
     "output_type": "execute_result"
    }
   ],
   "source": [
    "# Define function and print with given parameters\n",
    "sol_func_g = sm.lambdify((n,l,phi),ss_g)\n",
    "sol_num_g = sol_func_g(0.01,1,0.5)\n",
    "f\"The steady state growth rate of technology is {sol_num_g:.2f}\""
   ]
  },
  {
   "cell_type": "markdown",
   "metadata": {},
   "source": [
    "By using these given parameters, the steady state rate of growth in technology is estimated to be 2%."
   ]
  },
  {
   "cell_type": "markdown",
   "metadata": {},
   "source": [
    "# Solving the \"simple\" model with R&D"
   ]
  },
  {
   "cell_type": "markdown",
   "metadata": {},
   "source": [
    "Our next step is to solve the simple model with R&D.\n",
    "The transition equation for capital accumulation can then be expressed as:\n",
    "\n",
    "11. \\\\[ {\\tilde{k}_{t+1}=\\frac{1}{\\left(1+n\\right)\\left(1+g_{t}\\right)}\\left(s_{k}\\tilde{k}_{t}^{\\alpha}+\\left(1-\\delta\\right)\\tilde{k}_{t}\\right)} \\\\]\n",
    "\n"
   ]
  },
  {
   "cell_type": "markdown",
   "metadata": {},
   "source": [
    "To find the solution for this model, we will have to find the steady state rate. That is to solve for $\\tilde{k}$ in the following equation:\n",
    "\n",
    "12. \\\\[{\\tilde{k}^{*}=\\frac{1}{\\left(1+n\\right)\\left(1+g_{t}\\right)}\\left(s_{k}\\tilde{k}^{\\alpha*}+\\left(1-\\delta\\right)\\tilde{k}^{*}\\right)} \\\\]"
   ]
  },
  {
   "cell_type": "markdown",
   "metadata": {},
   "source": [
    "But first, we will have to define the following parameters and variables as symbols"
   ]
  },
  {
   "cell_type": "code",
   "execution_count": 6,
   "metadata": {},
   "outputs": [],
   "source": [
    "# Define variables and parameters as symbols \n",
    "k = sm.symbols('k')\n",
    "alpha = sm.symbols('alpha')\n",
    "delta = sm.symbols('delta')\n",
    "s_k = sm.symbols('s_K')"
   ]
  },
  {
   "cell_type": "code",
   "execution_count": 7,
   "metadata": {},
   "outputs": [
    {
     "data": {
      "image/png": "[encoded data removed]",
      "text/latex": [
       "$$\\left(\\frac{\\delta + g n + g + n}{s_{K}}\\right)^{\\frac{1}{\\alpha - 1}}$$"
      ],
      "text/plain": [
       "                   1  \n",
       "                 ─────\n",
       "                 α - 1\n",
       "⎛δ + g⋅n + g + n⎞     \n",
       "⎜───────────────⎟     \n",
       "⎝      s_K      ⎠     "
      ]
     },
     "execution_count": 7,
     "metadata": {},
     "output_type": "execute_result"
    }
   ],
   "source": [
    "# Define equation and solve for k\n",
    "trans_k = sm.Eq(k,(s_k*k**alpha+(1-delta)*k)/((1+n)*(1+g)))\n",
    "ss_k = sm.solve(trans_k,k)[0]\n",
    "ss_k"
   ]
  },
  {
   "cell_type": "markdown",
   "metadata": {},
   "source": [
    "Let's try to find the numeric value for the steady state growth rate of capital per effecient worker by using realistic paramters:\n",
    "$$s_K = 0.2$$ \n",
    "$$g = 0.02$$ \n",
    "$$n = 0.01$$\n",
    "$$\\delta = 0.06$$\n",
    "$$\\alpha = 1/3 $$"
   ]
  },
  {
   "cell_type": "code",
   "execution_count": 8,
   "metadata": {},
   "outputs": [
    {
     "data": {
      "text/plain": [
       "'The steady state growth rate is 3.30'"
      ]
     },
     "execution_count": 8,
     "metadata": {},
     "output_type": "execute_result"
    }
   ],
   "source": [
    "# Define function and print with parameters\n",
    "sol_func_k = sm.lambdify((s_k,g,n,delta,alpha),ss_k)\n",
    "sol_num_k = sol_func_k(0.2,0.02,0.01,0.06,1/3)\n",
    "f\"The steady state growth rate is {sol_num_k:.2f}\""
   ]
  },
  {
   "cell_type": "markdown",
   "metadata": {},
   "source": [
    "We could also estimate the rate by changing some parameters and holding the others fixed. Hence, we create a slider"
   ]
  },
  {
   "cell_type": "code",
   "execution_count": 9,
   "metadata": {},
   "outputs": [],
   "source": [
    "# Define functino for the solution\n",
    "def sol_num_k_func(s_k,g,n,delta,alpha):\n",
    "    return f\"The steady state growth rate of capital per effecient worker is {((delta + g * n + g + n)/s_k)**(1/(alpha-1)):.3f}\""
   ]
  },
  {
   "cell_type": "code",
   "execution_count": 10,
   "metadata": {},
   "outputs": [
    {
     "data": {
      "application/vnd.jupyter.widget-view+json": {
       "model_id": "158af14648ac4baea943f7766ee15a10",
       "version_major": 2,
       "version_minor": 0
      },
      "text/plain": [
       "interactive(children=(FloatSlider(value=0.2, description='$s_k$', max=5.0, step=0.05), FloatSlider(value=0.02,…"
      ]
     },
     "metadata": {},
     "output_type": "display_data"
    }
   ],
   "source": [
    "# Create slider\n",
    "slider_g_r = widgets.interact(sol_num_k_func,\n",
    "    s_k=widgets.FloatSlider(description=\"$s_k$\", min=0.0, max=5.0, step=0.05, value=0.2),\n",
    "    g=widgets.FloatSlider(description=\"$g$\", min=0.0, max=0.1, step=0.01, value=0.02),\n",
    "    n=widgets.FloatSlider(description=\"$n$\", min=0.0, max=0.1, step=0.01, value=0.01),\n",
    "    delta=widgets.FloatSlider(description=\"$\\delta$\", min=0.0, max=0.2, step=0.02, value=0.06),\n",
    "    alpha=widgets.FloatSlider(description=\"$a$\", min=0.1, max=0.67, step=0.05, value=1/3)\n",
    "                             )"
   ]
  },
  {
   "cell_type": "markdown",
   "metadata": {},
   "source": [
    "## Visualization of the path towards steady state - The transition diagram\n",
    "Our next goal is to create a plot for the transition diagram."
   ]
  },
  {
   "cell_type": "code",
   "execution_count": 11,
   "metadata": {},
   "outputs": [],
   "source": [
    "# First define a function of the transition equation\n",
    "def trans_k_func(k, s_k, alpha, delta, n, g):\n",
    "    return (s_k*k**alpha+(1-delta)*k)/((1+n)*(1+g))"
   ]
  },
  {
   "cell_type": "code",
   "execution_count": 12,
   "metadata": {},
   "outputs": [
    {
     "data": {
      "image/png": "[encoded data removed]",
      "text/plain": [
       "<Figure size 432x288 with 1 Axes>"
      ]
     },
     "metadata": {
      "needs_background": "light"
     },
     "output_type": "display_data"
    }
   ],
   "source": [
    "from matplotlib import rc\n",
    "from pylab import rcParams\n",
    "\n",
    "# change font\n",
    "plt.rc('text', usetex=True)\n",
    "plt.rc('font', family='sans-serif')\n",
    "    \n",
    "# Range for k\n",
    "k = np.arange(0.0, 3.5, 0.005)\n",
    "\n",
    "# xlabel, ylabel and title\n",
    "plt.xlabel(r'$k_t$',fontsize=20 )\n",
    "plt.ylabel(r'$k_{t+1}$', fontsize=20)\n",
    "plt.title(r'The transition diagram', fontsize=20)\n",
    "\n",
    "# Paramters\n",
    "s_k = 0.2\n",
    "g = 0.02\n",
    "n = 0.01\n",
    "delta = 0.06\n",
    "alpha = 1/3\n",
    "\n",
    "# plot the transition equation and 45-degree equation\n",
    "plt.plot(k, trans_k_func(k, s_k, alpha, delta, n, g))\n",
    "plt.plot(k, k)\n",
    "\n",
    "# plot the legend\n",
    "plt.legend((r'$\\frac{1}{\\left(1+n\\right)\\left(1+g\\right)}\\left(s\\tilde{k}_{t}^{\\alpha}+\\left(1-\\delta\\right)\\tilde{k}_{t}\\right)$',\n",
    "            r'$\\tilde{k}_{t+1}=\\tilde{k}_{t}$'),\n",
    "           shadow=True, loc=(0.47, 0.03), handlelength=1.4, fontsize=16)\n",
    "\n",
    "# Create arrow, which points at steady state rate  \n",
    "plt.annotate('Steady state growth rate', xy=(3.3, 3.3), xytext=(2.7, 2.5),\n",
    "            arrowprops=dict(facecolor='black', shrink=0.01),\n",
    "            )\n",
    "# Change size out output figure\n",
    "rcParams['figure.figsize'] = 9, 5\n",
    "       \n",
    "plt.show()"
   ]
  },
  {
   "cell_type": "markdown",
   "metadata": {},
   "source": [
    "As presented in the figure above, the arrow points at the steady state groth rate at coordinate (3.3 , 3.3), which is where the two equations intersect."
   ]
  },
  {
   "cell_type": "markdown",
   "metadata": {},
   "source": [
    "## Changing the value of the savings ratio\n",
    "What will happen to our plot, if the savaings ratio was to be changed. We will explore this by creating a simple interactive slider.\n",
    "\n",
    "**Please run the below cell twice to resize the plot propely**"
   ]
  },
  {
   "cell_type": "code",
   "execution_count": 13,
   "metadata": {},
   "outputs": [
    {
     "data": {
      "application/vnd.jupyter.widget-view+json": {
       "model_id": "62cbbe7308a44d8f8889a1d456b510c2",
       "version_major": 2,
       "version_minor": 0
      },
      "text/plain": [
       "interactive(children=(FloatSlider(value=0.2, description='$s_k$', max=0.5, step=0.05), Output()), _dom_classes…"
      ]
     },
     "metadata": {},
     "output_type": "display_data"
    }
   ],
   "source": [
    "from ipywidgets import interactive\n",
    "\n",
    "def slider(s_k):\n",
    "    plt.figure(2)\n",
    "    plt.rc('text', usetex=True)\n",
    "    plt.rc('font', family='sans-serif')\n",
    "    \n",
    "    #range\n",
    "    k = np.arange(0.0, 15, 0.005)\n",
    "    \n",
    "    # label and title\n",
    "    plt.xlabel(r'$k_t$',fontsize=20 )\n",
    "    plt.ylabel(r'$k_{t+1}$', fontsize=20)\n",
    "    plt.title(r'The transition diagram', fontsize=20)\n",
    "\n",
    "    # plot the transition equation and 45-degree equation\n",
    "    plt.plot(k, trans_k_func(k, s_k, alpha, delta, n, g))\n",
    "    plt.plot(k, k)\n",
    "\n",
    "    # Legend\n",
    "    plt.legend((r'$\\frac{1}{\\left(1+n\\right)\\left(1+g\\right)}\\left(s\\tilde{k}_{t}^{\\alpha}+\\left(1-\\delta\\right)\\tilde{k}_{t}\\right)$',\n",
    "            r'$\\tilde{k}_{t+1}=\\tilde{k}_{t}$'),\n",
    "           shadow=True, loc=(0.47, 0.03), handlelength=1.4, fontsize=16)        \n",
    "    \n",
    "    plt.show()\n",
    "    \n",
    "    from pylab import rcParams\n",
    "    rcParams['figure.figsize'] = 9, 5\n",
    "\n",
    "# plot the figure and interactive slider\n",
    "interactive_plot = interactive(slider, \n",
    "                               s_k=widgets.FloatSlider(description=\"$s_k$\", min=0.0,max=0.5,step=0.05,value=0.20,continuous_update=True) \n",
    "                              )\n",
    "\n",
    "\n",
    "interactive_plot"
   ]
  },
  {
   "cell_type": "markdown",
   "metadata": {},
   "source": [
    "We see as the savings ratio increases, so does the steady state rate."
   ]
  },
  {
   "cell_type": "markdown",
   "metadata": {},
   "source": [
    "# Extending the model with human capital"
   ]
  },
  {
   "cell_type": "markdown",
   "metadata": {},
   "source": [
    "We now want to extend the model and therefore adds *Human capital*.\n",
    "\n",
    "Equation 1. will be swapped by:\n",
    "\n",
    "1'. \\\\[Y_{t}=K_{t}^{\\alpha}H_{t}^{\\varphi}\\left(A_{t}L_{Y_{t}}\\right)^{1-\\alpha-\\varphi} \\\\]\n",
    "\n",
    "And a new human capital accumulation equation is given as:\n",
    "\n",
    "13. \\\\[H_{t+1}-H_{t}=s_{H}Y_{t}-\\delta H_{t},0<\\delta<1,0<s_{H}<1,H_{0}>0  \\text{ provided} \\\\] \n",
    "\n",
    "\n",
    "\n",
    "which will change equation (1) and (3). Additionally the equation below will be added to the model, which describes how human capital develops over time. Here $s_{H}$ is the saving rate in human capital. $\\delta$ is the depreciation rate.\n",
    "The following is the definition of per production worker variable and per effective production worker variable: $h_{t}=\\frac{H_{t}}{L_{Y_{y}}}$ &  $\\tilde{h}=\\frac{h_{t}}{A_{t}}$"
   ]
  },
  {
   "cell_type": "markdown",
   "metadata": {},
   "source": [
    "With human capital included in the model, a new transition equation is given for human capital per effecient worker and capital per effecient worker.\n",
    "\n",
    "14. \\\\[ \\tilde{h}_{t+1}=\\frac{1}{\\left(1+n\\right)\\left(1+g_{t}\\right)}\\left(s_{K}\\tilde{k}_{t}^{\\alpha}\\tilde{h}_{t}^{\\varphi}+\\left(1-\\delta\\right)\\tilde{h}_{t}\\right) \\\\]\n",
    "\n",
    "15. \\\\[ \\tilde{k}_{t+1}=\\frac{1}{\\left(1+n\\right)\\left(1+g_{t}\\right)}\\left(s_{H}\\tilde{k}_{t}^{\\alpha}\\tilde{h}_{t}^{\\varphi}+\\left(1-\\delta\\right)\\tilde{k}_{t}\\right)\\\\]"
   ]
  },
  {
   "cell_type": "markdown",
   "metadata": {},
   "source": [
    "Similar to the previous simple model, we will have to solve the following two equations to find the steady state values.\n",
    " \n",
    "  \\\\[ \\tilde{k}^{*}=\\frac{1}{\\left(1+n\\right)\\left(1+g_{t}\\right)}\\left(s_{K}\\tilde{k}^{*{\\alpha}}\\tilde{h}^{*{\\varphi}}+\\left(1-\\delta\\right)\\tilde{k}^*\\right)\\\\]\n",
    " \n",
    "  \\\\[ \\tilde{h}^{*}=\\frac{1}{\\left(1+n\\right)\\left(1+g_{t}\\right)}\\left(s_{H}\\tilde{k}^{*{\\alpha}}\\tilde{h}^{*{\\varphi}}+\\left(1-\\delta\\right)\\tilde{h}^*\\right)\\\\]\n",
    "  \n",
    "\n",
    " \n"
   ]
  },
  {
   "cell_type": "code",
   "execution_count": 14,
   "metadata": {},
   "outputs": [],
   "source": [
    "# Define more symbols\n",
    "h = sm.symbols('h')\n",
    "k = sm.symbols('k')\n",
    "s_h =sm.symbols('s_H')\n",
    "s_k = sm.symbols('s_K')\n",
    "g = sm.symbols('g')\n",
    "n = sm.symbols('n')\n",
    "delta = sm.symbols('delta')\n",
    "vphi = sm.symbols('varphi')\n",
    "alpha = sm.symbols('alpha')\n",
    "vphi = sm.symbols('varphi')"
   ]
  },
  {
   "cell_type": "code",
   "execution_count": 15,
   "metadata": {},
   "outputs": [],
   "source": [
    "# Define the two new transition equations\n",
    "trans_k2 = sm.Eq(k,(s_k*k**alpha*h**vphi+(1-delta)*k)/((1+n)*(1+g)))\n",
    "trans_h = sm.Eq(h,(s_h*k**alpha*h**vphi+(1-delta)*h)/((1+n)*(1+g)))"
   ]
  },
  {
   "cell_type": "code",
   "execution_count": 16,
   "metadata": {},
   "outputs": [
    {
     "data": {
      "image/png": "[encoded data removed]",
      "text/latex": [
       "$$\\left ( s_{H}^{- \\frac{\\varphi}{\\alpha + \\varphi - 1}} \\left(s_{K}^{\\varphi - 1} \\left(\\delta + g n + g + n\\right)\\right)^{\\frac{1}{\\alpha + \\varphi - 1}}, \\quad \\left(\\frac{\\left(s_{H}^{- \\frac{\\varphi}{\\alpha + \\varphi - 1}} \\left(s_{K}^{\\varphi - 1} \\left(\\delta + g n + g + n\\right)\\right)^{\\frac{1}{\\alpha + \\varphi - 1}}\\right)^{- \\alpha} \\left(\\delta + g n + g + n\\right)}{s_{H}}\\right)^{\\frac{1}{\\varphi - 1}}\\right )$$"
      ],
      "text/plain": [
       "⎛                                                                             \n",
       "⎜                                                                             \n",
       "⎜                                                                             \n",
       "⎜                                                                   ⎛         \n",
       "⎜                                                                   ⎜⎛        \n",
       "⎜                                                         1         ⎜⎜      -v\n",
       "⎜      -varphi                                      ──────────────  ⎜⎜   ─────\n",
       "⎜   ──────────────                                  α + varphi - 1  ⎜⎜   α + v\n",
       "⎜   α + varphi - 1 ⎛   varphi - 1                  ⎞                ⎜⎝s_H     \n",
       "⎜s_H              ⋅⎝s_K          ⋅(δ + g⋅n + g + n)⎠              , ⎜─────────\n",
       "⎝                                                                   ⎝         \n",
       "\n",
       "                                                                              \n",
       "                                                                              \n",
       "                                                                              \n",
       "                                                          -α                  \n",
       "                                                 1       ⎞                    \n",
       "arphi                                      ──────────────⎟                    \n",
       "─────────                                  α + varphi - 1⎟                    \n",
       "arphi - 1 ⎛   varphi - 1                  ⎞              ⎟                    \n",
       "         ⋅⎝s_K          ⋅(δ + g⋅n + g + n)⎠              ⎠  ⋅(δ + g⋅n + g + n)\n",
       "──────────────────────────────────────────────────────────────────────────────\n",
       "                                 s_H                                          \n",
       "\n",
       "     1     ⎞\n",
       " ──────────⎟\n",
       " varphi - 1⎟\n",
       "⎞          ⎟\n",
       "⎟          ⎟\n",
       "⎟          ⎟\n",
       "⎟          ⎟\n",
       "⎟          ⎟\n",
       "⎟          ⎟\n",
       "⎟          ⎟\n",
       "⎠          ⎠"
      ]
     },
     "execution_count": 16,
     "metadata": {},
     "output_type": "execute_result"
    }
   ],
   "source": [
    "# Solve a system of two equations\n",
    "ss_kh = sm.solve([trans_k2,trans_h], (k,h))[0]\n",
    "ss_kh"
   ]
  },
  {
   "cell_type": "markdown",
   "metadata": {},
   "source": [
    "While this might not be the most aesthetically pleasing solution, it is the correct.\n",
    "\n",
    "\n",
    "Next we are able to find the steady state rate for GDP per effecient worker, $\\tilde{y}^* = (\\tilde{k})^\\alpha*(\\tilde{h})^\\varphi $."
   ]
  },
  {
   "cell_type": "code",
   "execution_count": 17,
   "metadata": {},
   "outputs": [
    {
     "data": {
      "image/png": "[encoded data removed]",
      "text/latex": [
       "$$\\left(s_{H}^{- \\frac{\\varphi}{\\alpha + \\varphi - 1}} \\left(s_{K}^{\\varphi - 1} \\left(\\delta + g n + g + n\\right)\\right)^{\\frac{1}{\\alpha + \\varphi - 1}}\\right)^{\\varphi} \\left(\\left(\\frac{\\left(s_{H}^{- \\frac{\\varphi}{\\alpha + \\varphi - 1}} \\left(s_{K}^{\\varphi - 1} \\left(\\delta + g n + g + n\\right)\\right)^{\\frac{1}{\\alpha + \\varphi - 1}}\\right)^{- \\alpha} \\left(\\delta + g n + g + n\\right)}{s_{H}}\\right)^{\\frac{1}{\\varphi - 1}}\\right)^{\\alpha}$$"
      ],
      "text/plain": [
       "                                                                              \n",
       "                                                                          ⎛   \n",
       "                                                                          ⎜   \n",
       "                                                                          ⎜   \n",
       "                                                                          ⎜⎛  \n",
       "                                                                   varphi ⎜⎜⎛ \n",
       "⎛                                                         1       ⎞       ⎜⎜⎜ \n",
       "⎜      -varphi                                      ──────────────⎟       ⎜⎜⎜ \n",
       "⎜   ──────────────                                  α + varphi - 1⎟       ⎜⎜⎜ \n",
       "⎜   α + varphi - 1 ⎛   varphi - 1                  ⎞              ⎟       ⎜⎜⎝s\n",
       "⎝s_H              ⋅⎝s_K          ⋅(δ + g⋅n + g + n)⎠              ⎠      ⋅⎜⎜──\n",
       "                                                                          ⎝⎝  \n",
       "\n",
       "                                                                              \n",
       "                                                                              \n",
       "                                                                              \n",
       "                                                                              \n",
       "                                                                 -α           \n",
       "                                                        1       ⎞             \n",
       "     -varphi                                      ──────────────⎟             \n",
       "  ──────────────                                  α + varphi - 1⎟             \n",
       "  α + varphi - 1 ⎛   varphi - 1                  ⎞              ⎟             \n",
       "_H              ⋅⎝s_K          ⋅(δ + g⋅n + g + n)⎠              ⎠  ⋅(δ + g⋅n +\n",
       "──────────────────────────────────────────────────────────────────────────────\n",
       "                                        s_H                                   \n",
       "\n",
       "                   α\n",
       "            1     ⎞ \n",
       "        ──────────⎟ \n",
       "        varphi - 1⎟ \n",
       "       ⎞          ⎟ \n",
       "       ⎟          ⎟ \n",
       "       ⎟          ⎟ \n",
       "       ⎟          ⎟ \n",
       "       ⎟          ⎟ \n",
       " g + n)⎟          ⎟ \n",
       "───────⎟          ⎟ \n",
       "       ⎠          ⎠ "
      ]
     },
     "execution_count": 17,
     "metadata": {},
     "output_type": "execute_result"
    }
   ],
   "source": [
    "# Find the steady state rate for GDP per effecient worker\n",
    "ss_gdp_per_worker = ss_kh[0]**vphi*ss_kh[1]**alpha\n",
    "ss_gdp_per_worker"
   ]
  },
  {
   "cell_type": "markdown",
   "metadata": {},
   "source": [
    "Next we will estimate the numeric value of the steady state rate of:\n",
    "\n",
    "* Capital per effecient worker, $k^*$\n",
    "* Human Capital per effecient worker, $h^*$\n",
    "* GDP per effecient worker, $y^*$\n",
    "\n",
    "\n",
    "by using the following paramters:\n",
    "$$s_K = 0.2$$ \n",
    "$$s_H = 0.2$$ \n",
    "$$g = 0.02$$ \n",
    "$$n = 0.01$$\n",
    "$$\\delta = 0.06$$\n",
    "$$\\alpha = \\varphi = 1/3 $$\n",
    "\n"
   ]
  },
  {
   "cell_type": "code",
   "execution_count": 18,
   "metadata": {},
   "outputs": [
    {
     "data": {
      "text/plain": [
       "'The steady state rate is 10.901'"
      ]
     },
     "execution_count": 18,
     "metadata": {},
     "output_type": "execute_result"
    }
   ],
   "source": [
    "# Define and insert parameters for capital\n",
    "sol_func_k2 = sm.lambdify((s_k,s_h,g,n,delta,alpha,vphi),ss_kh[0])\n",
    "sol_num_k2 = sol_func_k2(0.2,0.2,0.02,0.01,0.06,1/3,1/3)\n",
    "f\"The steady state rate is {sol_num_k2:.3f}\""
   ]
  },
  {
   "cell_type": "code",
   "execution_count": 19,
   "metadata": {},
   "outputs": [
    {
     "data": {
      "text/plain": [
       "'The steady state rate is 10.901'"
      ]
     },
     "execution_count": 19,
     "metadata": {},
     "output_type": "execute_result"
    }
   ],
   "source": [
    "# Define and insert parameters for human capital\n",
    "sol_func_h = sm.lambdify((s_k,s_h,g,n,delta,alpha,vphi),ss_kh[1])\n",
    "sol_num_h = sol_func_h(0.2,0.2,0.02,0.01,0.06,1/3,1/3)\n",
    "f\"The steady state rate is {sol_num_h:.3f}\""
   ]
  },
  {
   "cell_type": "code",
   "execution_count": 20,
   "metadata": {},
   "outputs": [
    {
     "data": {
      "text/plain": [
       "'The steady state rate is 4.916'"
      ]
     },
     "execution_count": 20,
     "metadata": {},
     "output_type": "execute_result"
    }
   ],
   "source": [
    "# Define and insert parameters for GDP \n",
    "sol_func_y = sm.lambdify((s_k,s_h,g,n,delta,alpha,vphi),ss_gdp_per_worker)\n",
    "sol_num_y = sol_func_y(0.2,0.2,0.02,0.01,0.06,1/3,1/3)\n",
    "f\"The steady state rate is {sol_num_y:.3f}\""
   ]
  },
  {
   "cell_type": "markdown",
   "metadata": {},
   "source": [
    "## Visualization of the path towards steady state - The transition diagram\n",
    "Our next goal is to create a plot for the transition diagram for the model including human capital.\n",
    "First we have to find the \"nullclines\". In order for us to this, we first have to find the solow equations. This is done by substracting $\\tilde{k}_{t}$ or $\\tilde{h}_{t}$ from the respective transition equation.\n",
    "\n",
    "16. \\\\[ \\tilde{h}_{t+1}-\\tilde{h}_{t}=\\frac{1}{\\left(1+n\\right)\\left(1+g_{t}\\right)}\\left(s_{K}\\tilde{k}_{t}^{\\alpha}\\tilde{h}_{t}^{\\varphi}+\\left(1-\\delta\\right)\\tilde{h}_{t}\\right)-\\tilde{h}_{t} \\\\]\n",
    "\n",
    "17. \\\\[ \\tilde{k}_{t+1}-\\tilde{k}_{t}=\\frac{1}{\\left(1+n\\right)\\left(1+g_{t}\\right)}\\left(s_{H}\\tilde{k}_{t}^{\\alpha}\\tilde{h}_{t}^{\\varphi}+\\left(1-\\delta\\right)\\tilde{k}_{t}\\right)-\\tilde{k}_{t} \\\\]\n",
    "\n",
    "To find the nullclines, we will have to solve for $\\tilde{h}$ in the two solow equations."
   ]
  },
  {
   "cell_type": "code",
   "execution_count": 21,
   "metadata": {},
   "outputs": [
    {
     "data": {
      "image/png": "[encoded data removed]",
      "text/latex": [
       "$$\\left ( 0 = - k + \\frac{h^{\\varphi} k^{\\alpha} s_{K} + k \\left(- \\delta + 1\\right)}{\\left(g + 1\\right) \\left(n + 1\\right)}, \\quad 0 = - h + \\frac{h \\left(- \\delta + 1\\right) + h^{\\varphi} k^{\\alpha} s_{H}}{\\left(g + 1\\right) \\left(n + 1\\right)}\\right )$$"
      ],
      "text/plain": [
       "⎛          varphi  α                                          varphi  α    ⎞\n",
       "⎜         h      ⋅k ⋅s_K + k⋅(-δ + 1)           h⋅(-δ + 1) + h      ⋅k ⋅s_H⎟\n",
       "⎜0 = -k + ───────────────────────────, 0 = -h + ───────────────────────────⎟\n",
       "⎝               (g + 1)⋅(n + 1)                       (g + 1)⋅(n + 1)      ⎠"
      ]
     },
     "execution_count": 21,
     "metadata": {},
     "output_type": "execute_result"
    }
   ],
   "source": [
    "# Define the two solow equations\n",
    "solow_k = sm.Eq(k-k,((s_k*k**alpha*h**vphi+(1-delta)*k)/((1+n)*(1+g))-k))\n",
    "solow_h = sm.Eq(h-h,((s_h*k**alpha*h**vphi+(1-delta)*h)/((1+n)*(1+g))-h))\n",
    "solow_k, solow_h"
   ]
  },
  {
   "cell_type": "code",
   "execution_count": 22,
   "metadata": {},
   "outputs": [
    {
     "data": {
      "image/png": "[encoded data removed]",
      "text/latex": [
       "$$\\left ( \\left(\\frac{k^{- \\alpha + 1} \\left(\\delta + g n + g + n\\right)}{s_{K}}\\right)^{\\frac{1}{\\varphi}}, \\quad \\left(\\frac{k^{- \\alpha} \\left(\\delta + g n + g + n\\right)}{s_{H}}\\right)^{\\frac{1}{\\varphi - 1}}\\right )$$"
      ],
      "text/plain": [
       "⎛                                                                 1     ⎞\n",
       "⎜                                                             ──────────⎟\n",
       "⎜         ___________________________                         varphi - 1⎟\n",
       "⎜        ╱  -α + 1                     ⎛ -α                  ⎞          ⎟\n",
       "⎜       ╱  k      ⋅(δ + g⋅n + g + n)   ⎜k  ⋅(δ + g⋅n + g + n)⎟          ⎟\n",
       "⎜varphi╱   ───────────────────────── , ⎜─────────────────────⎟          ⎟\n",
       "⎝    ╲╱               s_K              ⎝         s_H         ⎠          ⎠"
      ]
     },
     "execution_count": 22,
     "metadata": {},
     "output_type": "execute_result"
    }
   ],
   "source": [
    "# Now solve for each of the equation with respect to h\n",
    "solow_sol_k = sm.solve(solow_k, h)[0]\n",
    "solow_sol_h = sm.solve(solow_h, h)[0]\n",
    "solow_sol_k, solow_sol_h"
   ]
  },
  {
   "cell_type": "markdown",
   "metadata": {},
   "source": [
    "The first nullcine is labed as ($\\Delta\\tilde{k}_{t} = 0)$ and the second nullcline as ($\\Delta\\tilde{h}_{t} = 0)$."
   ]
  },
  {
   "cell_type": "code",
   "execution_count": 23,
   "metadata": {},
   "outputs": [],
   "source": [
    "# Define the two null clines as functions\n",
    "def nullcline_1(k):\n",
    "    return (((k**(-alpha+1)*(delta + g*n + g + n)) / s_k)**(1/vphi))\n",
    "def nullcline_2(k):\n",
    "    return (((k**(-alpha)*(delta + g*n + g + n)) / s_h)**(1/(vphi-1)))"
   ]
  },
  {
   "cell_type": "code",
   "execution_count": 25,
   "metadata": {},
   "outputs": [
    {
     "name": "stderr",
     "output_type": "stream",
     "text": [
      "/anaconda3/lib/python3.7/site-packages/ipykernel_launcher.py:5: RuntimeWarning: divide by zero encountered in power\n",
      "  \"\"\"\n"
     ]
    },
    {
     "data": {
      "image/png": "[encoded data removed]",
      "text/plain": [
       "<Figure size 648x360 with 1 Axes>"
      ]
     },
     "metadata": {
      "needs_background": "light"
     },
     "output_type": "display_data"
    }
   ],
   "source": [
    "# Range\n",
    "k = np.arange(0.0,13.0,0.1)\n",
    "\n",
    "# labels and title\n",
    "plt.xlabel(r'$\\tilde{k_t}$',fontsize=20 )\n",
    "plt.ylabel(r'$\\tilde{h_t}$', fontsize=20)\n",
    "plt.title(r'The transition diagram', fontsize=20)\n",
    "\n",
    "\n",
    "# Parameters\n",
    "s_k = 0.2\n",
    "s_h = 0.2\n",
    "g = 0.02\n",
    "n = 0.01\n",
    "delta = 0.06\n",
    "alpha = 1/3\n",
    "vphi = 1/3\n",
    "\n",
    "# Plot the nullclines\n",
    "plt.plot(k, nullcline_1(k))\n",
    "plt.plot(k, nullcline_2(k))\n",
    "\n",
    "\n",
    "# Legend\n",
    "plt.legend((r'$\\left[\\Delta\\tilde{k}_{t}=0\\right]$',\n",
    "            r'$\\left[\\Delta\\tilde{h}_{t}=0\\right]$'),\n",
    "           shadow=True, loc=(0.55, 0.03), handlelength=1.4, fontsize=16)\n",
    "\n",
    "# Dashed lines\n",
    "plt.axhline(y=10.9, xmin=0., xmax=0.81, linestyle = '--', color = \"black\")\n",
    "plt.axvline(x=10.9, ymin=0., ymax=0.70, linestyle = '--', color = \"black\")\n",
    "\n",
    "# labels for dashed lines\n",
    "plt.annotate(r'$\\tilde{k}^{*}$', xy=(10.5, 3.3), xytext=(10.9, -1.6))\n",
    "plt.annotate(r'$\\tilde{h}^{*}$', xy=(10.5, 3.3), xytext=(-1.0, 10.9))\n",
    "\n",
    "\n",
    "# Resize figure            \n",
    "from pylab import rcParams\n",
    "rcParams['figure.figsize'] = 9, 5\n",
    "\n",
    "\n",
    "       \n",
    "plt.show()"
   ]
  },
  {
   "cell_type": "markdown",
   "metadata": {},
   "source": [
    "# Finding the steady state growth path for GDP per capita"
   ]
  },
  {
   "cell_type": "markdown",
   "metadata": {},
   "source": [
    "Under the assumption that $\\phi < 1 $, we'll try to derive the steady-state growth path for GDP per capita. \\\\[\\hat{y}_{t}^{*}=\\tilde{y}^{*}\\left(1-s_{R}\\right)\\left(\\frac{\\rho}{g_{se}}\\right)^{\\frac{1}{1-\\phi}}s_{R}^{\\frac{\\lambda}{1-\\phi}}\\left(1+g_{se}\\right)^{t}L_{0}^{\\frac{\\lambda}{1-\\phi}}\\\\]"
   ]
  },
  {
   "cell_type": "code",
   "execution_count": null,
   "metadata": {},
   "outputs": [],
   "source": [
    "# Define the following parameters as symbols\n",
    "y_hat = sm.symbols('\\hat{y}_{t}^{*}')\n",
    "y_tilde = sm.symbols(r'\\tilde{y}^{*}')\n",
    "l = sm.symbols('lambda')\n",
    "phi = sm.symbols('phi')\n",
    "s_r = sm.symbols('s_{R}')\n",
    "rho = sm.symbols('rho')\n",
    "g_se = sm.symbols('g_{se}')\n",
    "t = sm.symbols('t')\n",
    "L_0 = sm.symbols('L_{0}')"
   ]
  },
  {
   "cell_type": "code",
   "execution_count": null,
   "metadata": {},
   "outputs": [],
   "source": [
    "# Defining the equation\n",
    "ss_gp = y_tilde*(1-s_r)*(rho/g_se)**(1/(1-phi))*s_r**(l/(1-phi))*(1+g_se)**t*L_0**(l/(1-phi))"
   ]
  },
  {
   "cell_type": "markdown",
   "metadata": {},
   "source": [
    "Next we will find the \"Golden rule\" for $s_R$, which is the optimal share of the population being researchers. This is done by differentiation with respect to $s_R$,$\\frac{\\partial\\hat{y}_{t}^{*}}{\\partial s_{R}}$,  and then solving for $s_R$."
   ]
  },
  {
   "cell_type": "code",
   "execution_count": null,
   "metadata": {},
   "outputs": [],
   "source": [
    "# Differentiate the equation with respect to s_R\n",
    "diff_ss_gp = sm.diff(ss_gp,s_r)\n",
    "diff_ss_gp"
   ]
  },
  {
   "cell_type": "code",
   "execution_count": null,
   "metadata": {},
   "outputs": [],
   "source": [
    "#Solve for s_R\n",
    "golden_rule = sm.solve(diff_ss_gp,s_r)[0]\n",
    "golden_rule"
   ]
  },
  {
   "cell_type": "markdown",
   "metadata": {},
   "source": [
    "As presented above, the optimal share of researchers is $\\left[\\frac{\\lambda}{\\lambda-\\phi+1}\\right]$. Next let's try to find the numerical value by using the following realistic parameters. $\\lambda = 1, \\phi = 0.5$"
   ]
  },
  {
   "cell_type": "code",
   "execution_count": null,
   "metadata": {},
   "outputs": [],
   "source": [
    "# parametrize the golden rule\n",
    "golden_rule_num = sm.lambdify((l,phi),golden_rule)\n",
    "g_r = golden_rule_num(1,0.5)\n",
    "f\"The optimal share of researchers are {g_r:.3f}\""
   ]
  },
  {
   "cell_type": "markdown",
   "metadata": {},
   "source": [
    "Last, let's create a simple slider for changing values of $\\phi$ while holding $\\lambda$ fixed."
   ]
  },
  {
   "cell_type": "code",
   "execution_count": null,
   "metadata": {},
   "outputs": [],
   "source": [
    "# Define function of the golden rule\n",
    "def g_rule(l,phi):\n",
    "    return f\"s_r = {l/(1+l-phi):.3f}\""
   ]
  },
  {
   "cell_type": "code",
   "execution_count": null,
   "metadata": {},
   "outputs": [],
   "source": [
    "# Create slider\n",
    "slider_g_r = widgets.interact(g_rule,\n",
    "    phi=widgets.FloatSlider(description=\"$\\phi$\", min=0.0, max=1.0, step=0.05, value=0.5),\n",
    "    l=widgets.fixed(1)\n",
    "                       )"
   ]
  },
  {
   "cell_type": "markdown",
   "metadata": {},
   "source": [
    "We see as $\\phi$, which is a messaure for how capital affects \"knowledge\",  continues to grow the optimal share of researchers also increases."
   ]
  },
  {
   "cell_type": "markdown",
   "metadata": {},
   "source": [
    "# Overall conclusion and further perspectives"
   ]
  },
  {
   "cell_type": "markdown",
   "metadata": {},
   "source": [
    "In this project, we have succeded in solving the solow model with R&D and extended it with human capital. The dynamic paths towards steady state have been visualized by using realistic parameters. We have also seen how the steady state rate develops, when some of the parameters are changed.\n",
    "\n",
    "To extend this project more simulations and visualization are posible options. "
   ]
  }
 ],
 "metadata": {
  "kernelspec": {
   "display_name": "Python 3",
   "language": "python",
   "name": "python3"
  },
  "language_info": {
   "codemirror_mode": {
    "name": "ipython",
    "version": 3
   },
   "file_extension": ".py",
   "mimetype": "text/x-python",
   "name": "python",
   "nbconvert_exporter": "python",
   "pygments_lexer": "ipython3",
   "version": "3.7.1"
  }
 },
 "nbformat": 4,
 "nbformat_minor": 2
}
