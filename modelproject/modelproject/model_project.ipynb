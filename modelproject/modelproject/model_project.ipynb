{
 "cells": [
  {
   "cell_type": "markdown",
   "metadata": {},
   "source": [
    "# Solwing the Solow model with R&D"
   ]
  },
  {
   "cell_type": "markdown",
   "metadata": {},
   "source": [
    "## Intro"
   ]
  },
  {
   "cell_type": "code",
   "execution_count": 1,
   "metadata": {},
   "outputs": [],
   "source": [
    "import numpy as np\n",
    "import matplotlib.pyplot as plt\n",
    "import ipywidgets as widgets\n",
    "import time\n",
    "from scipy import linalg\n",
    "from scipy import optimize\n",
    "import sympy as sm\n",
    "\n",
    "from scipy import sparse\n",
    "import scipy.sparse.linalg\n",
    "\n",
    "sm.init_printing(use_unicode=True)"
   ]
  },
  {
   "cell_type": "markdown",
   "metadata": {},
   "source": [
    "We consider the following model for a closed economy, where the following equations are given:\n",
    "\n",
    "1. \\\\[Y_{t}=K_{t}^{\\alpha}\\left(A_{t}L_{Y_{t}}\\right)^{1-\\alpha}, 0<\\alpha<1\\\\]\n",
    "2. \\\\[K_{t+1}-K_{t}=s_{K}Y_{t}-\\delta K_{t},0<\\delta<1,0<s_{k}<1,K_{0}>0  \\text{ provided} \\\\] \n",
    "3. \\\\[A_{t+1}-A_{t}=\\rho A_{t}^{\\phi}L_{A_{t}}^{\\lambda},\\rho>0,\\phi>0,0<\\lambda<1 \\\\]\n",
    "4. \\\\[L_{A_{t}}=s_{R}L_{t},0<s_{R}<1 \\\\]\n",
    "5. \\\\[L_{t}=L_{A_{t}}+L_{Y_{t}} \\\\]\n",
    "6. \\\\[L_{t+1}=\\left(1+n\\right)L_{t},n>0 \\\\]\n",
    "\n",
    "\n",
    "Equation (1) is a Cobb-Douglas production function, which describes the aggregated production, $Y_{t}$, as a function of financial capital, $K_{t}$, production workers, $L_{Y_{t}}$ and the knowledge level, $A_{t}$, which determines the productivity of the workers.\n",
    "\n",
    "Equation (2) describes how financial capital develops over time, where $s_{K}$ is the saving rate.\n",
    "\n",
    "Equation (3) shows the development in the knowledge level, where $A_{t}$ is an expression for the knowledge at the time $t$ and $L_{A_{t}}$ is the amount of researchers. Equation (4) shows that the latter is the product of the population, $L_{t}$, and the share of researchers, $s_{R}$.\n",
    "\n",
    "The following definitions will also be used throughout this project:\n",
    "\n",
    "7. \\\\[ y_{t}=\\frac{Y_{t}}{L_{Y_{t}}};k_{t}=\\frac{K_{t}}{L_{Y_{t}}} \\\\]\n",
    "8. \\\\[\\tilde{y}=\\frac{y_{t}}{A_{t}};\\tilde{k}=\\frac{k_{t}}{A_{t}} \\\\]\n",
    "\n",
    "Where **7.** is the definition for capital-labo ratio and **8.** is the definition for the technology adjusted capital-labor ratio.\n"
   ]
  },
  {
   "cell_type": "markdown",
   "metadata": {},
   "source": [
    "# The growth in technology\n",
    "Our first goal in this model is to find the steady state rate for the exact growth rate of technology.\n",
    "\n",
    "The following transitions equation is given for the growth in technology:"
   ]
  },
  {
   "cell_type": "markdown",
   "metadata": {},
   "source": [
    "\\\\[g_{t+1}=\\left(1+n\\right)^{\\lambda}g_{t}\\left(1+g_{t}\\right)^{\\phi-1}\\\\]"
   ]
  },
  {
   "cell_type": "markdown",
   "metadata": {},
   "source": [
    "We then wish to find the steady state for this equation. That is to solve for $g^*$ the following equation:\n",
    "\\\\[g^*=\\left(1+n\\right)^{\\lambda}g^*\\left(1+g^*\\right)^{\\phi-1}\\\\]"
   ]
  },
  {
   "cell_type": "code",
   "execution_count": 2,
   "metadata": {},
   "outputs": [],
   "source": [
    "# Define the following symbols\n",
    "g = sm.symbols('g')\n",
    "n = sm.symbols('n')\n",
    "l = sm.symbols('lambda')\n",
    "phi = sm.symbols('phi')"
   ]
  },
  {
   "cell_type": "code",
   "execution_count": 3,
   "metadata": {},
   "outputs": [
    {
     "data": {
      "image/png": "[encoded data removed]",
      "text/latex": [
       "$$1 = \\left(g + 1\\right)^{\\phi - 1} \\left(n + 1\\right)^{\\lambda}$$"
      ],
      "text/plain": [
       "           φ - 1        λ\n",
       "1 = (g + 1)     ⋅(n + 1) "
      ]
     },
     "execution_count": 3,
     "metadata": {},
     "output_type": "execute_result"
    }
   ],
   "source": [
    "# Define the transition equation\n",
    "ss_g = sm.Eq(1,(1+n)**(l)*1*(1+g)**(phi-1))\n",
    "ss_g"
   ]
  },
  {
   "cell_type": "code",
   "execution_count": 4,
   "metadata": {},
   "outputs": [
    {
     "data": {
      "image/png": "[encoded data removed]",
      "text/latex": [
       "$$\\left(\\left(n + 1\\right)^{- \\lambda}\\right)^{\\frac{1}{\\phi - 1}} - 1$$"
      ],
      "text/plain": [
       "             1      \n",
       "           ─────    \n",
       "           φ - 1    \n",
       "⎛       -λ⎞         \n",
       "⎝(n + 1)  ⎠      - 1"
      ]
     },
     "execution_count": 4,
     "metadata": {},
     "output_type": "execute_result"
    }
   ],
   "source": [
    "# Solve for g\n",
    "kss_g = sm.solve(ss_g,g)[0]\n",
    "kss_g"
   ]
  },
  {
   "cell_type": "markdown",
   "metadata": {},
   "source": [
    "Next we will estimate the numeric value of the steady state growth rate of technology by using realistic parameters.\n",
    "$n = 0.01$\n",
    "$\\lambda = 1$\n",
    "$\\phi = 0.51$\n"
   ]
  },
  {
   "cell_type": "code",
   "execution_count": 5,
   "metadata": {},
   "outputs": [
    {
     "data": {
      "text/plain": [
       "'The steady state growth rate of technology is 0.02'"
      ]
     },
     "execution_count": 5,
     "metadata": {},
     "output_type": "execute_result"
    }
   ],
   "source": [
    "sol_func_g = sm.lambdify((n,l,phi),kss_g)\n",
    "sol_g = sol_func_g(0.01,1,0.5)\n",
    "f\"The steady state growth rate of technology is {sol_g:.2f}\""
   ]
  },
  {
   "cell_type": "markdown",
   "metadata": {},
   "source": [
    "# Solving the \"simple\" model with R&D"
   ]
  },
  {
   "cell_type": "markdown",
   "metadata": {},
   "source": [
    "The transition equation can then be expressed as:\n",
    "\n",
    "\\\\[ {\\tilde{k}_{t+1}=\\frac{1}{\\left(1+n\\right)\\left(1+g_{t}\\right)}\\left(s_{k}\\tilde{k}_{t}^{\\alpha}+\\left(1-\\delta\\right)\\tilde{k}_{t}\\right)} \\\\]\n",
    "\n"
   ]
  },
  {
   "cell_type": "markdown",
   "metadata": {},
   "source": [
    "Løs transligning find steady state og illustrer"
   ]
  },
  {
   "cell_type": "markdown",
   "metadata": {},
   "source": [
    "To find the solution for this model, we will have to find the steady state rate. That is to solve the following equation:\n",
    "\n",
    "78. \\\\[{\\tilde{k}^{*}=\\frac{1}{\\left(1+n\\right)\\left(1+g_{t}\\right)}\\left(s_{k}\\tilde{k}^{\\alpha*}+\\left(1-\\delta\\right)\\tilde{k}^{*}\\right)} \\\\]"
   ]
  },
  {
   "cell_type": "code",
   "execution_count": 6,
   "metadata": {},
   "outputs": [],
   "source": [
    "k = sm.symbols('k')\n",
    "alpha = sm.symbols('alpha')\n",
    "delta = sm.symbols('delta')\n",
    "s_k = sm.symbols('s_K')"
   ]
  },
  {
   "cell_type": "code",
   "execution_count": 7,
   "metadata": {},
   "outputs": [
    {
     "data": {
      "image/png": "[encoded data removed]",
      "text/latex": [
       "$$\\left(\\frac{\\delta + g n + g + n}{s_{K}}\\right)^{\\frac{1}{\\alpha - 1}}$$"
      ],
      "text/plain": [
       "                   1  \n",
       "                 ─────\n",
       "                 α - 1\n",
       "⎛δ + g⋅n + g + n⎞     \n",
       "⎜───────────────⎟     \n",
       "⎝      s_K      ⎠     "
      ]
     },
     "execution_count": 7,
     "metadata": {},
     "output_type": "execute_result"
    }
   ],
   "source": [
    "ss = sm.Eq(k,(s_k*k**alpha+(1-delta)*k)/((1+n)*(1+g)))\n",
    "kss = sm.solve(ss,k)[0]\n",
    "kss"
   ]
  },
  {
   "cell_type": "code",
   "execution_count": 8,
   "metadata": {},
   "outputs": [
    {
     "data": {
      "text/plain": [
       "'The steady state is 3.3017'"
      ]
     },
     "execution_count": 8,
     "metadata": {},
     "output_type": "execute_result"
    }
   ],
   "source": [
    "sol_func = sm.lambdify((s_k,g,n,delta,alpha),kss)\n",
    "sol_k = sol_func(0.2,0.02,0.01,0.06,1/3)\n",
    "f\"The steady state is {sol_k:.4f}\""
   ]
  },
  {
   "cell_type": "code",
   "execution_count": 9,
   "metadata": {},
   "outputs": [],
   "source": [
    "def ugh_this_bitch(k):\n",
    "    return (s_k*k**alpha+(1-delta)*k)/((1+n)*(1+g))"
   ]
  },
  {
   "cell_type": "code",
   "execution_count": 10,
   "metadata": {},
   "outputs": [],
   "source": [
    "import pylab\n",
    "\n",
    "s_k = 0.2\n",
    "g = 0.02\n",
    "n = 0.01\n",
    "delta = 0.06\n",
    "alpha = 1/3\n"
   ]
  },
  {
   "cell_type": "code",
   "execution_count": 11,
   "metadata": {},
   "outputs": [
    {
     "data": {
      "image/png": "[encoded data removed]",
      "text/latex": [
       "$$3.301681582761307$$"
      ],
      "text/plain": [
       "3.301681582761307"
      ]
     },
     "execution_count": 11,
     "metadata": {},
     "output_type": "execute_result"
    }
   ],
   "source": [
    "ugh_this_bitch(sol_k)"
   ]
  },
  {
   "cell_type": "code",
   "execution_count": 56,
   "metadata": {},
   "outputs": [
    {
     "data": {
      "image/png": "[encoded data removed]",
      "text/plain": [
       "<Figure size 432x288 with 1 Axes>"
      ]
     },
     "metadata": {
      "needs_background": "light"
     },
     "output_type": "display_data"
    }
   ],
   "source": [
    "from matplotlib import rc\n",
    "rc('font',**{'family':'sans-serif','sans-serif':['Helvetica']})\n",
    "## for Palatino and other serif fonts use:\n",
    "#rc('font',**{'family':'serif','serif':['Palatino']})\n",
    "rc('text', usetex=True)\n",
    "\n",
    "\n",
    "plt.rc('text', usetex=True)\n",
    "plt.rc('font', family='serif')\n",
    "    \n",
    "\n",
    "k = np.arange(0.0, 5.0, 0.1)\n",
    "\n",
    "plt.xlabel(r'$k_t$',fontsize=20 )\n",
    "plt.ylabel(r'$k_{t+1}$',rotation=0, fontsize=20)\n",
    "plt.title(r'The transition diagram', fontsize=20)\n",
    "plt.plot(k, ugh_this_bitch(k))\n",
    "plt.plot(k, k)\n",
    "\n",
    "       \n",
    "       \n",
    "       \n",
    "       \n",
    "plt.show()"
   ]
  },
  {
   "cell_type": "markdown",
   "metadata": {},
   "source": [
    "# Extending the model with human capital"
   ]
  },
  {
   "cell_type": "markdown",
   "metadata": {},
   "source": [
    "We now want to extend the model and therefore adds *Human capital*.\n",
    "\n",
    "Equation 1. will be swapped by:\n",
    "\n",
    "1'. \\\\[Y_{t}=K_{t}^{\\alpha}H_{t}^{\\varphi}\\left(A_{t}L_{Y_{t}}\\right)^{1-\\alpha-\\varphi} \\\\]\n",
    "\n",
    "And a new human capital accumulation equation is given as:\n",
    "\n",
    "7. \\\\[H_{t+1}-H_{t}=s_{H}Y_{t}-\\delta H_{t},0<\\delta<1,0<s_{H}<1,H_{0}>0  \\text{ provided} \\\\] \n",
    "\n",
    "\n",
    "\n",
    "which will change equation (1) and (3). Additionally the equation below will be added to the model, which describes how human capital develops over time. Here $s_{H}$ is the saving rate in human capital. $\\delta$ is the depreciation rate.\n",
    "The following is the definition of per production worker variable and per effective production worker variable: $h_{t}=\\frac{H_{t}}{L_{Y_{y}}}$ &  $\\tilde{h}=\\frac{h_{t}}{A_{t}}$"
   ]
  },
  {
   "cell_type": "markdown",
   "metadata": {},
   "source": [
    "With human capital included in the model, a new transition equation is given for human capital per effecient worker and equation xx. will be swapped by xx'.\n",
    "\n",
    "13. \\\\[ \\tilde{h}_{t+1}=\\frac{1}{\\left(1+n\\right)\\left(1+g_{t}\\right)}\\left(s_{H}\\tilde{k}_{t}^{\\alpha}\\tilde{h}_{t}^{\\varphi}+\\left(1-\\delta\\right)\\tilde{h}_{t}\\right) \\\\]\n",
    "\n",
    "x''.\\\\[ \\tilde{k}_{t+1}=\\frac{1}{\\left(1+n\\right)\\left(1+g_{t}\\right)}\\left(s_{H}\\tilde{k}_{t}^{\\alpha}\\tilde{h}_{t}^{\\varphi}+\\left(1-\\delta\\right)\\tilde{k}_{t}\\right)\\\\]"
   ]
  },
  {
   "cell_type": "markdown",
   "metadata": {},
   "source": [
    "The new steady state for this extended model can be found to be:"
   ]
  },
  {
   "cell_type": "code",
   "execution_count": 10,
   "metadata": {},
   "outputs": [],
   "source": [
    "# Define more symbols\n",
    "h = sm.symbols('h')\n",
    "vphi = sm.symbols('varphi')\n",
    "s_h =sm.symbols('s_H')"
   ]
  },
  {
   "cell_type": "code",
   "execution_count": 11,
   "metadata": {},
   "outputs": [],
   "source": [
    "# Define the two new transition equations\n",
    "ss_kk = sm.Eq(k,(s_k*k**alpha*h**vphi+(1-delta)*k)/((1+n)*(1+g)))\n",
    "ss_hh = sm.Eq(h,(s_h*k**alpha*h**vphi+(1-delta)*h)/((1+n)*(1+g)))"
   ]
  },
  {
   "cell_type": "code",
   "execution_count": 12,
   "metadata": {},
   "outputs": [
    {
     "data": {
      "image/png": "[encoded data removed]",
      "text/latex": [
       "$$\\left ( \\left(\\frac{\\left(s_{H}^{- \\frac{\\varphi}{\\alpha + \\varphi - 1}} \\left(s_{K}^{\\varphi - 1} \\left(\\delta + g n + g + n\\right)\\right)^{\\frac{1}{\\alpha + \\varphi - 1}}\\right)^{- \\alpha} \\left(\\delta + g n + g + n\\right)}{s_{H}}\\right)^{\\frac{1}{\\varphi - 1}}, \\quad s_{H}^{- \\frac{\\varphi}{\\alpha + \\varphi - 1}} \\left(s_{K}^{\\varphi - 1} \\left(\\delta + g n + g + n\\right)\\right)^{\\frac{1}{\\alpha + \\varphi - 1}}\\right )$$"
      ],
      "text/plain": [
       "⎛                                                                             \n",
       "⎜                                                                             \n",
       "⎜                                                                             \n",
       "⎜⎛                                                                   -α       \n",
       "⎜⎜⎛                                                         1       ⎞         \n",
       "⎜⎜⎜      -varphi                                      ──────────────⎟         \n",
       "⎜⎜⎜   ──────────────                                  α + varphi - 1⎟         \n",
       "⎜⎜⎜   α + varphi - 1 ⎛   varphi - 1                  ⎞              ⎟         \n",
       "⎜⎜⎝s_H              ⋅⎝s_K          ⋅(δ + g⋅n + g + n)⎠              ⎠  ⋅(δ + g\n",
       "⎜⎜────────────────────────────────────────────────────────────────────────────\n",
       "⎝⎝                                          s_H                               \n",
       "\n",
       "                1                                                             \n",
       "            ──────────                                                        \n",
       "            varphi - 1                                                        \n",
       "           ⎞                                                                  \n",
       "           ⎟                                                                  \n",
       "           ⎟                                                                  \n",
       "           ⎟                  -varphi                                      ───\n",
       "           ⎟               ──────────────                                  α +\n",
       "⋅n + g + n)⎟               α + varphi - 1 ⎛   varphi - 1                  ⎞   \n",
       "───────────⎟          , s_H              ⋅⎝s_K          ⋅(δ + g⋅n + g + n)⎠   \n",
       "           ⎠                                                                  \n",
       "\n",
       "           ⎞\n",
       "           ⎟\n",
       "           ⎟\n",
       "           ⎟\n",
       "           ⎟\n",
       "   1       ⎟\n",
       "───────────⎟\n",
       " varphi - 1⎟\n",
       "           ⎟\n",
       "           ⎟\n",
       "           ⎠"
      ]
     },
     "execution_count": 12,
     "metadata": {},
     "output_type": "execute_result"
    }
   ],
   "source": [
    "# Solve a system of two equations\n",
    "kss_kh = sm.solve([ss_kk,ss_hh], (h,k))[0]\n",
    "kss_kh"
   ]
  },
  {
   "cell_type": "markdown",
   "metadata": {},
   "source": [
    "While this might not be the most aesthetically pleasing solution, it is the correct.\n",
    "Next we are able to find the steady state for GDP per effecient worker, $\\tilde{y}^* = (\\tilde{k})^\\alpha*(\\tilde{h})^\\varphi $."
   ]
  },
  {
   "cell_type": "code",
   "execution_count": 13,
   "metadata": {},
   "outputs": [
    {
     "data": {
      "image/png": "[encoded data removed]",
      "text/latex": [
       "$$\\left(s_{H}^{- \\frac{\\varphi}{\\alpha + \\varphi - 1}} \\left(s_{K}^{\\varphi - 1} \\left(\\delta + g n + g + n\\right)\\right)^{\\frac{1}{\\alpha + \\varphi - 1}}\\right)^{\\alpha} \\left(\\left(\\frac{\\left(s_{H}^{- \\frac{\\varphi}{\\alpha + \\varphi - 1}} \\left(s_{K}^{\\varphi - 1} \\left(\\delta + g n + g + n\\right)\\right)^{\\frac{1}{\\alpha + \\varphi - 1}}\\right)^{- \\alpha} \\left(\\delta + g n + g + n\\right)}{s_{H}}\\right)^{\\frac{1}{\\varphi - 1}}\\right)^{\\varphi}$$"
      ],
      "text/plain": [
       "                                                                              \n",
       "                                                                     ⎛        \n",
       "                                                                     ⎜        \n",
       "                                                                     ⎜        \n",
       "                                                                     ⎜⎛       \n",
       "                                                                   α ⎜⎜⎛      \n",
       "⎛                                                         1       ⎞  ⎜⎜⎜      \n",
       "⎜      -varphi                                      ──────────────⎟  ⎜⎜⎜   ───\n",
       "⎜   ──────────────                                  α + varphi - 1⎟  ⎜⎜⎜   α +\n",
       "⎜   α + varphi - 1 ⎛   varphi - 1                  ⎞              ⎟  ⎜⎜⎝s_H   \n",
       "⎝s_H              ⋅⎝s_K          ⋅(δ + g⋅n + g + n)⎠              ⎠ ⋅⎜⎜───────\n",
       "                                                                     ⎝⎝       \n",
       "\n",
       "                                                                              \n",
       "                                                                              \n",
       "                                                                              \n",
       "                                                                              \n",
       "                                                            -α                \n",
       "                                                   1       ⎞                  \n",
       "-varphi                                      ──────────────⎟                  \n",
       "───────────                                  α + varphi - 1⎟                  \n",
       " varphi - 1 ⎛   varphi - 1                  ⎞              ⎟                  \n",
       "           ⋅⎝s_K          ⋅(δ + g⋅n + g + n)⎠              ⎠  ⋅(δ + g⋅n + g + \n",
       "──────────────────────────────────────────────────────────────────────────────\n",
       "                                   s_H                                        \n",
       "\n",
       "              varphi\n",
       "       1     ⎞      \n",
       "   ──────────⎟      \n",
       "   varphi - 1⎟      \n",
       "  ⎞          ⎟      \n",
       "  ⎟          ⎟      \n",
       "  ⎟          ⎟      \n",
       "  ⎟          ⎟      \n",
       "  ⎟          ⎟      \n",
       "n)⎟          ⎟      \n",
       "──⎟          ⎟      \n",
       "  ⎠          ⎠      "
      ]
     },
     "execution_count": 13,
     "metadata": {},
     "output_type": "execute_result"
    }
   ],
   "source": [
    "kss_kh[0]**vphi*kss_kh[1]**alpha"
   ]
  },
  {
   "cell_type": "markdown",
   "metadata": {},
   "source": [
    "Next we will estimate the numeric value of the steady state of GDP per effecient worker. "
   ]
  },
  {
   "cell_type": "code",
   "execution_count": 16,
   "metadata": {},
   "outputs": [],
   "source": [
    "#Insert probable estimates"
   ]
  },
  {
   "cell_type": "code",
   "execution_count": 17,
   "metadata": {},
   "outputs": [
    {
     "data": {
      "image/png": "[encoded data removed]",
      "text/latex": [
       "$$0.0$$"
      ],
      "text/plain": [
       "0.0"
      ]
     },
     "execution_count": 17,
     "metadata": {},
     "output_type": "execute_result"
    }
   ],
   "source": [
    "ss_test = sm.solve(ss_kk,k)[0]\n",
    "ss_test"
   ]
  },
  {
   "cell_type": "code",
   "execution_count": 18,
   "metadata": {},
   "outputs": [],
   "source": [
    "ss_hh2 = ss_hh.subs(k,ss_test)"
   ]
  },
  {
   "cell_type": "code",
   "execution_count": 19,
   "metadata": {},
   "outputs": [],
   "source": [
    "ss_dsad = sm.solve(ss_hh2,h)[0]"
   ]
  },
  {
   "cell_type": "code",
   "execution_count": 20,
   "metadata": {},
   "outputs": [
    {
     "data": {
      "image/png": "[encoded data removed]",
      "text/latex": [
       "$$0.0$$"
      ],
      "text/plain": [
       "0.0"
      ]
     },
     "execution_count": 20,
     "metadata": {},
     "output_type": "execute_result"
    }
   ],
   "source": [
    "ss_dsad"
   ]
  },
  {
   "cell_type": "code",
   "execution_count": 21,
   "metadata": {},
   "outputs": [
    {
     "data": {
      "image/png": "[encoded data removed]",
      "text/latex": [
       "$$0.0$$"
      ],
      "text/plain": [
       "0.0"
      ]
     },
     "execution_count": 21,
     "metadata": {},
     "output_type": "execute_result"
    }
   ],
   "source": [
    "ss_test.subs(h,ss_dsad)"
   ]
  },
  {
   "cell_type": "markdown",
   "metadata": {},
   "source": [
    "# Finding the steady state growth path for GDP per capita"
   ]
  },
  {
   "cell_type": "markdown",
   "metadata": {},
   "source": [
    "Under the assumption that $\\phi < 1 $, we'll try to derive the steady-state growth path for GDP per capita. \\\\[\\hat{y}_{t}^{*}=\\tilde{y}^{*}\\left(1-s_{R}\\right)\\left(\\frac{\\rho}{g_{se}}\\right)^{\\frac{1}{1-\\phi}}s_{R}^{\\frac{\\lambda}{1-\\phi}}\\left(1+g_{se}\\right)^{t}L_{0}^{\\frac{\\lambda}{1-\\phi}}\\\\]"
   ]
  },
  {
   "cell_type": "code",
   "execution_count": 14,
   "metadata": {},
   "outputs": [],
   "source": [
    "y_hat = sm.symbols('\\hat{y}_{t}^{*}')\n",
    "y_tilde = sm.symbols(r'\\tilde{y}^{*}')\n",
    "l = sm.symbols('lambda')\n",
    "phi = sm.symbols('phi')\n",
    "s_r = sm.symbols('s_{R}')\n",
    "rho = sm.symbols('rho')\n",
    "g_se = sm.symbols('g_{se}')\n",
    "t = sm.symbols('t')\n",
    "L_0 = sm.symbols('L_{0}')"
   ]
  },
  {
   "cell_type": "code",
   "execution_count": 15,
   "metadata": {},
   "outputs": [],
   "source": [
    "# Defining the equation\n",
    "ssgp = y_tilde*(1-s_r)*(rho/g_se)**(1/(1-phi))*s_r**(l/(1-phi))*(1+g_se)**t*L_0**(l/(1-phi))"
   ]
  },
  {
   "cell_type": "markdown",
   "metadata": {},
   "source": [
    "Next we will find the \"Golden rule\" for $s_R$, which is the optimal share of the population being researchers. This is done by differentiation with respect to $s_R$,$\\frac{\\partial\\hat{y}_{t}^{*}}{\\partial s_{R}}$,  and then solving for $s_R$."
   ]
  },
  {
   "cell_type": "code",
   "execution_count": 16,
   "metadata": {},
   "outputs": [
    {
     "data": {
      "image/png": "[encoded data removed]",
      "text/latex": [
       "$$\\frac{L_{0}^{\\frac{\\lambda}{- \\phi + 1}} \\tilde{y}^{*} \\lambda s_{R}^{\\frac{\\lambda}{- \\phi + 1}} \\left(\\frac{\\rho}{g_{se}}\\right)^{\\frac{1}{- \\phi + 1}} \\left(g_{se} + 1\\right)^{t} \\left(- s_{R} + 1\\right)}{s_{R} \\left(- \\phi + 1\\right)} - L_{0}^{\\frac{\\lambda}{- \\phi + 1}} \\tilde{y}^{*} s_{R}^{\\frac{\\lambda}{- \\phi + 1}} \\left(\\frac{\\rho}{g_{se}}\\right)^{\\frac{1}{- \\phi + 1}} \\left(g_{se} + 1\\right)^{t}$$"
      ],
      "text/plain": [
       "                                                   1                          \n",
       "       λ                            λ            ──────                       \n",
       "     ──────                       ──────         -φ + 1                       \n",
       "     -φ + 1                       -φ + 1 ⎛  ρ   ⎞                   t         \n",
       "L_{0}      ⋅\\tilde{y}__{*}⋅λ⋅s_{R}      ⋅⎜──────⎟      ⋅(g_{se} + 1) ⋅(-s_{R} \n",
       "                                         ⎝g_{se}⎠                             \n",
       "──────────────────────────────────────────────────────────────────────────────\n",
       "                                  s_{R}⋅(-φ + 1)                              \n",
       "\n",
       "                                                                          \n",
       "                                                                          \n",
       "                                                        1                 \n",
       "              λ                          λ            ──────              \n",
       "+ 1)        ──────                     ──────         -φ + 1              \n",
       "            -φ + 1                     -φ + 1 ⎛  ρ   ⎞                   t\n",
       "──── - L_{0}      ⋅\\tilde{y}__{*}⋅s_{R}      ⋅⎜──────⎟      ⋅(g_{se} + 1) \n",
       "                                              ⎝g_{se}⎠                    "
      ]
     },
     "execution_count": 16,
     "metadata": {},
     "output_type": "execute_result"
    }
   ],
   "source": [
    "# Differentiate the equation with respect to s_R\n",
    "diff_ssgp = sm.diff(ssgp,s_r)\n",
    "diff_ssgp"
   ]
  },
  {
   "cell_type": "code",
   "execution_count": 17,
   "metadata": {},
   "outputs": [
    {
     "data": {
      "image/png": "[encoded data removed]",
      "text/latex": [
       "$$\\frac{\\lambda}{\\lambda - \\phi + 1}$$"
      ],
      "text/plain": [
       "    λ    \n",
       "─────────\n",
       "λ - φ + 1"
      ]
     },
     "execution_count": 17,
     "metadata": {},
     "output_type": "execute_result"
    }
   ],
   "source": [
    "#Solve for s_R\n",
    "golden_rule = sm.solve(diff_ssgp,s_r)[0]\n",
    "golden_rule"
   ]
  },
  {
   "cell_type": "markdown",
   "metadata": {},
   "source": [
    "As presented above, the optimal share of researchers is $\\left[\\frac{\\lambda}{\\lambda-\\phi+1}\\right]$. Next let's try to find the numerical value by using the following realistic parameters. $\\lambda = 1, \\phi = 0.5$"
   ]
  },
  {
   "cell_type": "code",
   "execution_count": 18,
   "metadata": {},
   "outputs": [
    {
     "data": {
      "text/plain": [
       "'The optimal share of researchers are 0.667'"
      ]
     },
     "execution_count": 18,
     "metadata": {},
     "output_type": "execute_result"
    }
   ],
   "source": [
    "# parametrize the golden rule\n",
    "golden_rule_num = sm.lambdify((l,phi),golden_rule)\n",
    "g_r = golden_rule_num(1,0.5)\n",
    "f\"The optimal share of researchers are {g_r:.3f}\""
   ]
  },
  {
   "cell_type": "markdown",
   "metadata": {},
   "source": [
    "Last, let's create a simple slider for changing values of $\\phi$ while holding $\\lambda$ fixed."
   ]
  },
  {
   "cell_type": "code",
   "execution_count": 19,
   "metadata": {},
   "outputs": [],
   "source": [
    "# Define function of the golden rule\n",
    "def g_rule(l,phi):\n",
    "    return f\"s_r = {l/(1+l-phi):.3f}\""
   ]
  },
  {
   "cell_type": "code",
   "execution_count": 20,
   "metadata": {},
   "outputs": [
    {
     "data": {
      "application/vnd.jupyter.widget-view+json": {
       "model_id": "eb9ae4ddaeae46a4bff291cec96c87e3",
       "version_major": 2,
       "version_minor": 0
      },
      "text/plain": [
       "interactive(children=(FloatSlider(value=0.5, description='$\\\\phi$', max=1.0, step=0.05), Output()), _dom_class…"
      ]
     },
     "metadata": {},
     "output_type": "display_data"
    }
   ],
   "source": [
    "# Create slider\n",
    "slider_g_r = widgets.interact(g_rule,\n",
    "    phi=widgets.FloatSlider(description=\"$\\phi$\", min=0.0, max=1.0, step=0.05, value=0.5),\n",
    "    l=widgets.fixed(1)\n",
    "                       )"
   ]
  },
  {
   "cell_type": "markdown",
   "metadata": {},
   "source": [
    "We see  t"
   ]
  }
 ],
 "metadata": {
  "kernelspec": {
   "display_name": "Python 3",
   "language": "python",
   "name": "python3"
  },
  "language_info": {
   "codemirror_mode": {
    "name": "ipython",
    "version": 3
   },
   "file_extension": ".py",
   "mimetype": "text/x-python",
   "name": "python",
   "nbconvert_exporter": "python",
   "pygments_lexer": "ipython3",
   "version": "3.7.1"
  }
 },
 "nbformat": 4,
 "nbformat_minor": 2
}
